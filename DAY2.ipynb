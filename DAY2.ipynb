{
  "nbformat": 4,
  "nbformat_minor": 0,
  "metadata": {
    "colab": {
      "provenance": [],
      "authorship_tag": "ABX9TyMFCWaC77kR/OzgHX063unJ",
      "include_colab_link": true
    },
    "kernelspec": {
      "name": "python3",
      "display_name": "Python 3"
    },
    "language_info": {
      "name": "python"
    }
  },
  "cells": [
    {
      "cell_type": "markdown",
      "metadata": {
        "id": "view-in-github",
        "colab_type": "text"
      },
      "source": [
        "<a href=\"https://colab.research.google.com/github/Himadreee18/Python/blob/main/DAY2.ipynb\" target=\"_parent\"><img src=\"https://colab.research.google.com/assets/colab-badge.svg\" alt=\"Open In Colab\"/></a>"
      ]
    },
    {
      "cell_type": "markdown",
      "source": [
        "valid ad ivalid identifiers"
      ],
      "metadata": {
        "id": "zinTr2xTTKc-"
      }
    },
    {
      "cell_type": "code",
      "execution_count": null,
      "metadata": {
        "id": "DXjJOKYQRSEU"
      },
      "outputs": [],
      "source": [
        "var1 = 10\n",
        "_variable = 20\n",
        "var = 30"
      ]
    },
    {
      "cell_type": "markdown",
      "source": [
        "variable declarationn"
      ],
      "metadata": {
        "id": "T1NH7Nk8U-eu"
      }
    },
    {
      "cell_type": "code",
      "source": [
        "x = 5\n",
        "name = \"Alice\"\n",
        "pi = 3.14\n",
        "print(type(x))\n",
        "print(type(name))\n",
        "print(type(pi))"
      ],
      "metadata": {
        "colab": {
          "base_uri": "https://localhost:8080/"
        },
        "id": "ixlmaQ_eTkpY",
        "outputId": "9fc2a198-19fb-4b20-94c5-3b3a5fc9a906"
      },
      "execution_count": null,
      "outputs": [
        {
          "output_type": "stream",
          "name": "stdout",
          "text": [
            "<class 'int'>\n",
            "<class 'str'>\n",
            "<class 'float'>\n"
          ]
        }
      ]
    },
    {
      "cell_type": "code",
      "source": [
        "x = 5\n",
        "name = \"Alice\"\n",
        "pi = 3.14\n",
        "# Printing variables\n",
        "print(x)\n",
        "print(name)\n",
        "print(pi)"
      ],
      "metadata": {
        "colab": {
          "base_uri": "https://localhost:8080/"
        },
        "id": "y9A6Wu8hVDjo",
        "outputId": "55e72c48-3116-4d13-f48b-e56cfbfa875a"
      },
      "execution_count": null,
      "outputs": [
        {
          "output_type": "stream",
          "name": "stdout",
          "text": [
            "5\n",
            "Alice\n",
            "3.14\n"
          ]
        }
      ]
    },
    {
      "cell_type": "code",
      "source": [
        "x = 10\n",
        "y = 3.14\n",
        "z = 3 + 4j"
      ],
      "metadata": {
        "id": "aGces79LWr-5"
      },
      "execution_count": null,
      "outputs": []
    },
    {
      "cell_type": "markdown",
      "source": [
        "implicit data types"
      ],
      "metadata": {
        "id": "tr7dVi7xaleI"
      }
    },
    {
      "cell_type": "code",
      "source": [
        "x = 5 # int\n",
        "y = 2.5 # float\n",
        "z = x + y\n",
        "print(z) # Result is a float: 7.5"
      ],
      "metadata": {
        "colab": {
          "base_uri": "https://localhost:8080/"
        },
        "id": "HV53moL-ZRUQ",
        "outputId": "1d184aa9-bd45-4a83-edd2-83942fadca0a"
      },
      "execution_count": null,
      "outputs": [
        {
          "output_type": "stream",
          "name": "stdout",
          "text": [
            "7.5\n"
          ]
        }
      ]
    },
    {
      "cell_type": "markdown",
      "source": [
        "explicit data type"
      ],
      "metadata": {
        "id": "jm1nKqIxa8e3"
      }
    },
    {
      "cell_type": "code",
      "source": [
        "x = \"10\"\n",
        "y = int(x) + 5\n",
        "print(y) # Output: 15"
      ],
      "metadata": {
        "colab": {
          "base_uri": "https://localhost:8080/"
        },
        "id": "gyvn2f0sav8I",
        "outputId": "c763653d-7ce7-4b30-9ee1-215a0d597029"
      },
      "execution_count": null,
      "outputs": [
        {
          "output_type": "stream",
          "name": "stdout",
          "text": [
            "15\n"
          ]
        }
      ]
    },
    {
      "cell_type": "markdown",
      "source": [
        "assigment operaters"
      ],
      "metadata": {
        "id": "hcle1-xhgGkr"
      }
    },
    {
      "cell_type": "code",
      "source": [
        "x = 5\n",
        "x += 3\n",
        "print(x)"
      ],
      "metadata": {
        "colab": {
          "base_uri": "https://localhost:8080/"
        },
        "id": "kSCo8O81d-Os",
        "outputId": "b88ccc63-5f1a-4d61-ad59-e78a09b272f0"
      },
      "execution_count": null,
      "outputs": [
        {
          "output_type": "stream",
          "name": "stdout",
          "text": [
            "8\n"
          ]
        }
      ]
    },
    {
      "cell_type": "code",
      "source": [
        "x = 5\n",
        "x -= 3\n",
        "print(x)"
      ],
      "metadata": {
        "colab": {
          "base_uri": "https://localhost:8080/"
        },
        "id": "rTjgaghNeWgc",
        "outputId": "5eabd48c-74bb-457a-f2c1-eab90a3e899a"
      },
      "execution_count": null,
      "outputs": [
        {
          "output_type": "stream",
          "name": "stdout",
          "text": [
            "2\n"
          ]
        }
      ]
    },
    {
      "cell_type": "code",
      "source": [
        "x = 5\n",
        "x *= 3\n",
        "print(x)"
      ],
      "metadata": {
        "colab": {
          "base_uri": "https://localhost:8080/"
        },
        "id": "oICNfg4qerah",
        "outputId": "adfeaaef-3529-49fd-8167-ecc895259182"
      },
      "execution_count": null,
      "outputs": [
        {
          "output_type": "stream",
          "name": "stdout",
          "text": [
            "15\n"
          ]
        }
      ]
    },
    {
      "cell_type": "code",
      "source": [
        "x = 5\n",
        "x /= 3\n",
        "print(x)"
      ],
      "metadata": {
        "colab": {
          "base_uri": "https://localhost:8080/"
        },
        "id": "6VzHDbwhe1ba",
        "outputId": "7a10d05b-db8d-4739-dcd5-75457dbc3bea"
      },
      "execution_count": null,
      "outputs": [
        {
          "output_type": "stream",
          "name": "stdout",
          "text": [
            "1.6666666666666667\n"
          ]
        }
      ]
    },
    {
      "cell_type": "markdown",
      "source": [
        "idetity operaters\n",
        "eg 1\n",
        "using is and is not"
      ],
      "metadata": {
        "id": "DFmaWRqHgNlZ"
      }
    },
    {
      "cell_type": "code",
      "source": [
        "x = [1, 2, 3]\n",
        "y = [1, 2, 3]\n",
        "z = x\n",
        "print(x is z)\n",
        "print(x is y)\n",
        "print(x is not y)"
      ],
      "metadata": {
        "colab": {
          "base_uri": "https://localhost:8080/"
        },
        "id": "NLe4sA0agM0r",
        "outputId": "04c7b86d-e1c9-4372-8724-ff40d289f131"
      },
      "execution_count": null,
      "outputs": [
        {
          "output_type": "stream",
          "name": "stdout",
          "text": [
            "True\n",
            "False\n",
            "True\n"
          ]
        }
      ]
    },
    {
      "cell_type": "markdown",
      "source": [
        "eg 2  Comparing immutable types"
      ],
      "metadata": {
        "id": "jxTzhtUwg7XJ"
      }
    },
    {
      "cell_type": "code",
      "source": [
        "a = 10\n",
        "b = 10\n",
        "print(a is b)"
      ],
      "metadata": {
        "colab": {
          "base_uri": "https://localhost:8080/"
        },
        "id": "lZgJR-8ggx_l",
        "outputId": "a71d6d8c-96ca-4ac2-f29a-ac3e1b3e5669"
      },
      "execution_count": null,
      "outputs": [
        {
          "output_type": "stream",
          "name": "stdout",
          "text": [
            "True\n"
          ]
        }
      ]
    },
    {
      "cell_type": "markdown",
      "source": [
        "Membership Operators"
      ],
      "metadata": {
        "id": "5-nV1e8RhSfD"
      }
    },
    {
      "cell_type": "code",
      "source": [
        "#Example 1\n",
        "text = \"Hello, World!\"\n",
        "print(\"Hello\" in text)\n",
        "print(\"Python\" not in text)\n"
      ],
      "metadata": {
        "colab": {
          "base_uri": "https://localhost:8080/"
        },
        "id": "hE4TZMc3hRzs",
        "outputId": "9c334081-4094-4087-f786-6339ef66d07b"
      },
      "execution_count": null,
      "outputs": [
        {
          "output_type": "stream",
          "name": "stdout",
          "text": [
            "True\n",
            "True\n"
          ]
        }
      ]
    },
    {
      "cell_type": "code",
      "source": [
        "#example 2\n",
        "fruits = [\"apple\", \"banana\", \"cherry\"]\n",
        "print(\"apple\" in fruits) # True\n",
        "print(\"grape\" not in fruits) # True"
      ],
      "metadata": {
        "colab": {
          "base_uri": "https://localhost:8080/"
        },
        "id": "te5T6NIcic6O",
        "outputId": "46864066-d26f-435c-d33e-ba7d3272e7ee"
      },
      "execution_count": null,
      "outputs": [
        {
          "output_type": "stream",
          "name": "stdout",
          "text": [
            "True\n",
            "True\n"
          ]
        }
      ]
    },
    {
      "cell_type": "markdown",
      "source": [
        "Write a program for addition of float of three numbers."
      ],
      "metadata": {
        "id": "zBnJCWtKi1jr"
      }
    },
    {
      "cell_type": "code",
      "source": [
        "num1 = float(input(\"Enter the first number:\"))\n",
        "num2 = float(input(\"Ennter the second number:\"))\n",
        "num3 = float(input(\"Enter the third number:\"))\n",
        "sum = num1 + num2 + num3\n",
        "print(\"The sum of three numbers is:\", sum)"
      ],
      "metadata": {
        "colab": {
          "base_uri": "https://localhost:8080/"
        },
        "id": "VK7V3FDGi0xb",
        "outputId": "8a0194a0-d65b-4315-d43d-b7bdd0ead166"
      },
      "execution_count": null,
      "outputs": [
        {
          "output_type": "stream",
          "name": "stdout",
          "text": [
            "Enter the first number:5.5\n",
            "Ennter the second number:6.5\n",
            "Enter the third number:2.5\n",
            "The sum of three numbers is: 14.5\n"
          ]
        }
      ]
    },
    {
      "cell_type": "markdown",
      "source": [
        "Write a program to calculate the average of three numbers"
      ],
      "metadata": {
        "id": "R6WfEMVwke0b"
      }
    },
    {
      "cell_type": "code",
      "source": [
        "x = 2\n",
        "y = 3\n",
        "y = 4\n",
        "average = (x + y + z)/3\n",
        "print(\"The average is:\",average)"
      ],
      "metadata": {
        "colab": {
          "base_uri": "https://localhost:8080/"
        },
        "id": "hakqaiWUkd__",
        "outputId": "620ea139-2ce8-4113-f855-34fa347b2859"
      },
      "execution_count": null,
      "outputs": [
        {
          "output_type": "stream",
          "name": "stdout",
          "text": [
            "The average is: 2.8333333333333335\n"
          ]
        }
      ]
    },
    {
      "cell_type": "markdown",
      "source": [
        "Write a program to calculate the area of rhombus"
      ],
      "metadata": {
        "id": "cOnZkR18kt80"
      }
    },
    {
      "cell_type": "code",
      "source": [
        "d1 = int(input(\"Enter the length of the first diagonal:\"))\n",
        "d2 = int(input(\"Enter the length of the second diagonal:\"))\n",
        "a = (1/2)*d1*d2\n",
        "print(\"The area of rhombus is:\", a)"
      ],
      "metadata": {
        "colab": {
          "base_uri": "https://localhost:8080/"
        },
        "id": "IXL_90saktZN",
        "outputId": "eee1e1e1-c0f7-45df-eea4-6543805b5f33"
      },
      "execution_count": null,
      "outputs": [
        {
          "output_type": "stream",
          "name": "stdout",
          "text": [
            "Enter the length of the first diagonal:10\n",
            "Enter the length of the second diagonal:20\n",
            "The area of rhombus is: 100.0\n"
          ]
        }
      ]
    },
    {
      "cell_type": "markdown",
      "source": [
        "Write a program to find the area of parallelogram"
      ],
      "metadata": {
        "id": "Yo02LdGAmOnL"
      }
    },
    {
      "cell_type": "code",
      "source": [
        "b = float(input(\"Enter base:\"))\n",
        "h = float(input(\"Enter height:\"))\n",
        "area = b*h\n",
        "print(\"The area of parallalogram is:\", area)"
      ],
      "metadata": {
        "colab": {
          "base_uri": "https://localhost:8080/"
        },
        "id": "4WysE4KWmOI-",
        "outputId": "bc3acdd5-47bb-45a6-ec56-a3c6eca310b4"
      },
      "execution_count": null,
      "outputs": [
        {
          "output_type": "stream",
          "name": "stdout",
          "text": [
            "Enter base:4\n",
            "Enter height:6\n",
            "The area of parallalogram is: 24.0\n"
          ]
        }
      ]
    },
    {
      "cell_type": "markdown",
      "source": [
        "Write a programm to find the volume and surface area of the cube"
      ],
      "metadata": {
        "id": "TyrQfO5_nBY7"
      }
    },
    {
      "cell_type": "code",
      "source": [
        "s = float(input(\"Enter the side of the cube:\"))\n",
        "volume = s**3\n",
        "surface_area = 6*s**2\n",
        "print(\"The volume of the cube is:\", volume)\n",
        "print(\"The surface area of the cube is:\", surface_area)"
      ],
      "metadata": {
        "colab": {
          "base_uri": "https://localhost:8080/"
        },
        "id": "b8GByAcBnAp0",
        "outputId": "b4ee7168-1ad2-4fb2-8370-1fe09b7f2c01"
      },
      "execution_count": null,
      "outputs": [
        {
          "output_type": "stream",
          "name": "stdout",
          "text": [
            "Enter the side of the cube:5\n",
            "The volume of the cube is: 125.0\n",
            "The surface area of the cube is: 150.0\n"
          ]
        }
      ]
    },
    {
      "cell_type": "markdown",
      "source": [
        "Using `in` with dictionaries"
      ],
      "metadata": {
        "id": "0Tjo1J9xoFEr"
      }
    },
    {
      "cell_type": "code",
      "source": [
        "my_dict = {\"name\": \"Alice\", \"age\": 25}\n",
        "print(\"name\" in my_dict) # True\n",
        "print(\"Alice\" in my_dict) # False"
      ],
      "metadata": {
        "id": "WECPc_xRoEax",
        "colab": {
          "base_uri": "https://localhost:8080/"
        },
        "outputId": "411c14cd-d5f9-48c9-d54a-321ac9735707"
      },
      "execution_count": null,
      "outputs": [
        {
          "output_type": "stream",
          "name": "stdout",
          "text": [
            "True\n",
            "False\n"
          ]
        }
      ]
    },
    {
      "cell_type": "markdown",
      "source": [
        "Operator precedence"
      ],
      "metadata": {
        "id": "jWPzzfAz_qeh"
      }
    },
    {
      "cell_type": "code",
      "source": [
        "result = 3 + 2 * 2 ** 2\n",
        "print(result)"
      ],
      "metadata": {
        "id": "oFXPhGYk8tGQ",
        "colab": {
          "base_uri": "https://localhost:8080/"
        },
        "outputId": "8853f03a-ec7c-4e75-e03c-7c81711249de"
      },
      "execution_count": null,
      "outputs": [
        {
          "output_type": "stream",
          "name": "stdout",
          "text": [
            "11\n"
          ]
        }
      ]
    },
    {
      "cell_type": "code",
      "source": [
        "result = (3 + 2) * 2 ** 2\n",
        "print(result)"
      ],
      "metadata": {
        "colab": {
          "base_uri": "https://localhost:8080/"
        },
        "id": "DXGmGVuyAdmT",
        "outputId": "4a418791-0af0-4748-f64d-8af2cc186d4c"
      },
      "execution_count": null,
      "outputs": [
        {
          "output_type": "stream",
          "name": "stdout",
          "text": [
            "20\n"
          ]
        }
      ]
    },
    {
      "cell_type": "markdown",
      "source": [
        "aSSOCIAVITY"
      ],
      "metadata": {
        "id": "wVPQuzKyAqrA"
      }
    },
    {
      "cell_type": "code",
      "source": [
        "result = 10 - 5 + 2\n",
        "print(result)"
      ],
      "metadata": {
        "colab": {
          "base_uri": "https://localhost:8080/"
        },
        "id": "VCNITVBeAowx",
        "outputId": "911518a8-a498-4939-9b79-04c2cd416297"
      },
      "execution_count": null,
      "outputs": [
        {
          "output_type": "stream",
          "name": "stdout",
          "text": [
            "7\n"
          ]
        }
      ]
    },
    {
      "cell_type": "code",
      "source": [
        "result = 2 ** 3 ** 2\n",
        "print(result)"
      ],
      "metadata": {
        "colab": {
          "base_uri": "https://localhost:8080/"
        },
        "id": "d3kVhs3lBHmr",
        "outputId": "05715824-57ea-422c-b89b-a499e33b1e0e"
      },
      "execution_count": null,
      "outputs": [
        {
          "output_type": "stream",
          "name": "stdout",
          "text": [
            "512\n"
          ]
        }
      ]
    },
    {
      "cell_type": "markdown",
      "source": [
        "Parentheses for clarity"
      ],
      "metadata": {
        "id": "afcVeb1yB4p_"
      }
    },
    {
      "cell_type": "code",
      "source": [
        "# without parantheses\n",
        "result = 3 + 5 * 2 - 8 / 4\n",
        "print(result)"
      ],
      "metadata": {
        "colab": {
          "base_uri": "https://localhost:8080/"
        },
        "id": "e8Y5c9b2B32y",
        "outputId": "89a9aa35-013f-4004-be42-7e092ae6dd56"
      },
      "execution_count": null,
      "outputs": [
        {
          "output_type": "stream",
          "name": "stdout",
          "text": [
            "11.0\n"
          ]
        }
      ]
    },
    {
      "cell_type": "code",
      "source": [
        "#with parantheses\n",
        "result = (3 + (5 * 2)) - (8 / 4)\n",
        "print(result)"
      ],
      "metadata": {
        "colab": {
          "base_uri": "https://localhost:8080/"
        },
        "id": "6azW5g27CLnh",
        "outputId": "cee15674-b527-46af-f9c0-1b19dfab39b8"
      },
      "execution_count": null,
      "outputs": [
        {
          "output_type": "stream",
          "name": "stdout",
          "text": [
            "11.0\n"
          ]
        }
      ]
    },
    {
      "cell_type": "code",
      "source": [
        "result = 10 + 2 * 3 ** 2\n",
        "print(result)"
      ],
      "metadata": {
        "colab": {
          "base_uri": "https://localhost:8080/"
        },
        "id": "1hnUg2wID5rq",
        "outputId": "9e0489b6-ebda-431c-b7c5-c7fb6553dc52"
      },
      "execution_count": null,
      "outputs": [
        {
          "output_type": "stream",
          "name": "stdout",
          "text": [
            "28\n"
          ]
        }
      ]
    },
    {
      "cell_type": "code",
      "source": [
        "result = 4 + 8 / 2 ** 2 * 3\n",
        "print(result)"
      ],
      "metadata": {
        "colab": {
          "base_uri": "https://localhost:8080/"
        },
        "id": "hzzFPjAVEKdr",
        "outputId": "287842c9-4ab5-4a6d-c8da-3c172551eb0e"
      },
      "execution_count": null,
      "outputs": [
        {
          "output_type": "stream",
          "name": "stdout",
          "text": [
            "10.0\n"
          ]
        }
      ]
    },
    {
      "cell_type": "markdown",
      "source": [
        "Write a program to swap two numbers using bitwise xor"
      ],
      "metadata": {
        "id": "FLKmgDTvEnT4"
      }
    },
    {
      "cell_type": "code",
      "source": [
        "x = 5\n",
        "y = 7\n",
        "print(f\"Before swapping:x = {x}, y = {y}\")\n",
        "x = x ^ y\n",
        "y = x ^ y\n",
        "x = x ^ y\n",
        "print(f\"After swapping:x = {x}, y ={y}\")"
      ],
      "metadata": {
        "colab": {
          "base_uri": "https://localhost:8080/"
        },
        "id": "z2Medvd3Edfx",
        "outputId": "8da8a372-8d1e-4914-e899-897da97e15ba"
      },
      "execution_count": null,
      "outputs": [
        {
          "output_type": "stream",
          "name": "stdout",
          "text": [
            "Before swapping:x = 5, y = 7\n",
            "After swapping:x = 7, y =5\n"
          ]
        }
      ]
    }
  ]
}