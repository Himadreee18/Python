{
  "nbformat": 4,
  "nbformat_minor": 0,
  "metadata": {
    "colab": {
      "provenance": [],
      "authorship_tag": "ABX9TyNCo85x3SngAJKDY0ZZ+JTA",
      "include_colab_link": true
    },
    "kernelspec": {
      "name": "python3",
      "display_name": "Python 3"
    },
    "language_info": {
      "name": "python"
    }
  },
  "cells": [
    {
      "cell_type": "markdown",
      "metadata": {
        "id": "view-in-github",
        "colab_type": "text"
      },
      "source": [
        "<a href=\"https://colab.research.google.com/github/Himadreee18/Python/blob/main/DAY6.ipynb\" target=\"_parent\"><img src=\"https://colab.research.google.com/assets/colab-badge.svg\" alt=\"Open In Colab\"/></a>"
      ]
    },
    {
      "cell_type": "markdown",
      "source": [
        "CREATING A FUNCTION"
      ],
      "metadata": {
        "id": "rSa-rlVB2ty8"
      }
    },
    {
      "cell_type": "code",
      "execution_count": null,
      "metadata": {
        "colab": {
          "base_uri": "https://localhost:8080/"
        },
        "id": "9Jvg-KAmqNZR",
        "outputId": "60ac1d01-b519-4b8b-ed5c-cc202059aa5a"
      },
      "outputs": [
        {
          "output_type": "stream",
          "name": "stdout",
          "text": [
            "12\n"
          ]
        }
      ],
      "source": [
        "def findSum(a, b):\n",
        "  result = a + b\n",
        "  return result\n",
        "\n",
        "x = 5\n",
        "y = 7\n",
        "z = findSum(x, y)\n",
        "print(z)"
      ]
    },
    {
      "cell_type": "markdown",
      "source": [
        "RETURN MULTIPLE VALUES"
      ],
      "metadata": {
        "id": "DNpRnXeq3Wpu"
      }
    },
    {
      "cell_type": "code",
      "source": [
        "def arithmetic(num1, num2):\n",
        "  add = num1 + num2\n",
        "  sub = num1 - num2\n",
        "  multiply = num1 * num2\n",
        "  division = num1 / num2\n",
        "  return add, sub, multiply, division\n",
        "x = 54\n",
        "y = 21\n",
        "a, b, c, d = arithmetic(x, y)\n",
        "print(a, b, c, d)"
      ],
      "metadata": {
        "colab": {
          "base_uri": "https://localhost:8080/"
        },
        "id": "ARmtKPy33WN_",
        "outputId": "61fc0706-4e1d-4b8c-e897-57435367794a"
      },
      "execution_count": null,
      "outputs": [
        {
          "output_type": "stream",
          "name": "stdout",
          "text": [
            "75 33 1134 2.5714285714285716\n"
          ]
        }
      ]
    },
    {
      "cell_type": "markdown",
      "source": [
        "POSITIONAL Arguments"
      ],
      "metadata": {
        "id": "dDhLvOiy5aux"
      }
    },
    {
      "cell_type": "code",
      "source": [
        "def my_function(fname, lname):\n",
        "  print(f\"My first name is {fname} and my last name is {lname}\")\n",
        "my_function(\"Rohan\", \"kumar\")"
      ],
      "metadata": {
        "colab": {
          "base_uri": "https://localhost:8080/"
        },
        "id": "MH9j6ZPR5SMU",
        "outputId": "28d163f2-2eb0-409a-ec1a-8028a79cb1db"
      },
      "execution_count": null,
      "outputs": [
        {
          "output_type": "stream",
          "name": "stdout",
          "text": [
            "My first name is Rohan and my last name is kumar\n"
          ]
        }
      ]
    },
    {
      "cell_type": "markdown",
      "source": [
        "KEYWORD ARGUMENTS"
      ],
      "metadata": {
        "id": "NdOwvmYD7Woy"
      }
    },
    {
      "cell_type": "code",
      "source": [
        "def my_function(fname, lname):\n",
        "  print(f\"My first name is {fname} and my last name is {lname}\")\n",
        "my_function(lname=\"Rohan\", fname=\"kumar\")"
      ],
      "metadata": {
        "colab": {
          "base_uri": "https://localhost:8080/"
        },
        "id": "6pjyGiCZ7WEE",
        "outputId": "b94a7d2c-0740-4893-cc2b-1f49bedf7dbc"
      },
      "execution_count": null,
      "outputs": [
        {
          "output_type": "stream",
          "name": "stdout",
          "text": [
            "My first name is kumar and my last name is Rohan\n"
          ]
        }
      ]
    },
    {
      "cell_type": "markdown",
      "source": [
        "DEFAULT ARGUMENTS"
      ],
      "metadata": {
        "id": "XosbJS17-KEM"
      }
    },
    {
      "cell_type": "code",
      "source": [
        "def my_function(fname, lname=\"kumar\"):\n",
        "  print(f\"My first name is {fname} and my last name is {lname}\")\n",
        "my_function(\"Akash\")"
      ],
      "metadata": {
        "colab": {
          "base_uri": "https://localhost:8080/"
        },
        "id": "ja4XbH3h-JWO",
        "outputId": "e36a1825-9d2e-4599-835d-1aff9f3ebd6d"
      },
      "execution_count": null,
      "outputs": [
        {
          "output_type": "stream",
          "name": "stdout",
          "text": [
            "My first name is Akash and my last name is kumar\n"
          ]
        }
      ]
    },
    {
      "cell_type": "markdown",
      "source": [
        "VARIABLE LENGTH POSITIONAL ARGUMENTS"
      ],
      "metadata": {
        "id": "mjWRH-SB_Pg_"
      }
    },
    {
      "cell_type": "code",
      "source": [
        "def sum_num(num1, *num):\n",
        "  result = num1\n",
        "  for i in num:\n",
        "    result += i\n",
        "  return result\n",
        "r =  sum_num(10, 20, 30)\n",
        "print(f\"The sum of numbers is: {r}\")\n",
        "r =  sum_num(10, 20, 30, 40, 50)\n",
        "print(f\"The sum of numbers is: {r}\")\n"
      ],
      "metadata": {
        "colab": {
          "base_uri": "https://localhost:8080/"
        },
        "id": "MVDcdL3p_O-w",
        "outputId": "c59121f4-97d3-4c6b-f6dc-c28137e0aca6"
      },
      "execution_count": null,
      "outputs": [
        {
          "output_type": "stream",
          "name": "stdout",
          "text": [
            "The sum of numbers is: 60\n",
            "The sum of numbers is: 150\n"
          ]
        }
      ]
    },
    {
      "cell_type": "markdown",
      "source": [
        "VARIABLE LENGTH KEYWORD ARGUMENTS"
      ],
      "metadata": {
        "id": "PgotGJDUBRID"
      }
    },
    {
      "cell_type": "code",
      "source": [
        "def my_func(**cutie):\n",
        "  print(f\"The first name is {cutie['fname']} and last name is {cutie['lname']}\")\n",
        "my_func(fname=\"Rohan\", lname=\"kumar\")"
      ],
      "metadata": {
        "colab": {
          "base_uri": "https://localhost:8080/"
        },
        "id": "sanF5uD3BQnF",
        "outputId": "98fa60ae-261a-43e3-f9e2-9b95ede21c50"
      },
      "execution_count": null,
      "outputs": [
        {
          "output_type": "stream",
          "name": "stdout",
          "text": [
            "The first name is Rohan and last name is kumar\n"
          ]
        }
      ]
    },
    {
      "cell_type": "markdown",
      "source": [
        "Mutable Example (List):"
      ],
      "metadata": {
        "id": "MSMLkca6Fkgr"
      }
    },
    {
      "cell_type": "code",
      "source": [
        "my_list = [1, 2, 3]\n",
        "my_list[0] = 10\n",
        "print(my_list)"
      ],
      "metadata": {
        "colab": {
          "base_uri": "https://localhost:8080/"
        },
        "id": "DRm9rG3dFba9",
        "outputId": "bf43623b-781f-4fee-b3f6-a123e2d5d5c2"
      },
      "execution_count": null,
      "outputs": [
        {
          "output_type": "stream",
          "name": "stdout",
          "text": [
            "[10, 2, 3]\n"
          ]
        }
      ]
    },
    {
      "cell_type": "markdown",
      "source": [
        "Immutable Example (String):"
      ],
      "metadata": {
        "id": "0bGBB-rRFrF6"
      }
    },
    {
      "cell_type": "code",
      "source": [
        "my_string = \"hello\"\n",
        "my_string = \"Hello\"\n",
        "print(my_string)"
      ],
      "metadata": {
        "colab": {
          "base_uri": "https://localhost:8080/"
        },
        "id": "iddjjtZbFqgb",
        "outputId": "9a23109c-6697-461c-a18f-c08718d331da"
      },
      "execution_count": null,
      "outputs": [
        {
          "output_type": "stream",
          "name": "stdout",
          "text": [
            "Hello\n"
          ]
        }
      ]
    },
    {
      "cell_type": "markdown",
      "source": [
        "Functions and Mutability:"
      ],
      "metadata": {
        "id": "2hN_XAY9GKT8"
      }
    },
    {
      "cell_type": "code",
      "source": [
        "def modify_list(lst):\n",
        "  lst.append(4)\n",
        "my_list = [1, 2, 3]\n",
        "modify_list(my_list)\n",
        "print(my_list)"
      ],
      "metadata": {
        "colab": {
          "base_uri": "https://localhost:8080/"
        },
        "id": "3rC9e3LSGJsI",
        "outputId": "6de5e401-33cc-4778-9e49-7c8f4e035ac0"
      },
      "execution_count": null,
      "outputs": [
        {
          "output_type": "stream",
          "name": "stdout",
          "text": [
            "[1, 2, 3, 4]\n"
          ]
        }
      ]
    },
    {
      "cell_type": "markdown",
      "source": [
        "Mathematical Functions:"
      ],
      "metadata": {
        "id": "q_taF5GTJdFw"
      }
    },
    {
      "cell_type": "code",
      "source": [
        "number = -10\n",
        "absolute_value = abs(number)\n",
        "print(f\"The absolute value of {number} is {absolute_value}\")\n",
        "numbers_list = [4, 7, 1, 9, 3]\n",
        "largest_number = max(numbers_list)\n",
        "print(f\"The largest number in the list {numbers_list} is {largest_number}\")\n",
        "smallest_number = min(numbers_list)\n",
        "print(f\"The smallest number in the list {numbers_list} is {smallest_number}\")\n",
        "total = sum(numbers_list)\n",
        "print(f\"The sum of all numbers in the list {numbers_list} is {total}\")"
      ],
      "metadata": {
        "colab": {
          "base_uri": "https://localhost:8080/"
        },
        "id": "ggOkY7EeGZxm",
        "outputId": "c80a87ae-513f-415f-8070-b7c2f1ed28d8"
      },
      "execution_count": null,
      "outputs": [
        {
          "output_type": "stream",
          "name": "stdout",
          "text": [
            "The absolute value of -10 is 10\n",
            "The largest number in the list [4, 7, 1, 9, 3] is 9\n",
            "The smallest number in the list [4, 7, 1, 9, 3] is 1\n",
            "The sum of all numbers in the list [4, 7, 1, 9, 3] is 24\n"
          ]
        }
      ]
    },
    {
      "cell_type": "markdown",
      "source": [
        "Type Conversion Functions:"
      ],
      "metadata": {
        "id": "rRDbha6mLC8I"
      }
    },
    {
      "cell_type": "code",
      "source": [
        "string_number = \"42\"\n",
        "integer_value = int(string_number)\n",
        "print(f\"The string '{string_number}' converted to an integer is {integer_value}\")\n",
        "integer_number = 10\n",
        "float_value = float(integer_number)\n",
        "print(f\"The integer {integer_number} converted to a float is {float_value}\")\n",
        "number = 3.14\n",
        "string_value = str(number)\n",
        "print(f\"The float {number} converted to a string is '{string_value}'\")\n",
        "mixed_string = \"123.45\"\n",
        "converted_float = float(mixed_string)\n",
        "converted_int = int(float(mixed_string))\n",
        "print(f\"The string '{mixed_string}' converted to a float is {converted_float}, and to an integer is {converted_int}\")"
      ],
      "metadata": {
        "colab": {
          "base_uri": "https://localhost:8080/"
        },
        "id": "k7ynOc7iK_wi",
        "outputId": "63e98d47-ecff-4dd6-e192-ab29be860a62"
      },
      "execution_count": null,
      "outputs": [
        {
          "output_type": "stream",
          "name": "stdout",
          "text": [
            "The string '42' converted to an integer is 42\n",
            "The integer 10 converted to a float is 10.0\n",
            "The float 3.14 converted to a string is '3.14'\n",
            "The string '123.45' converted to a float is 123.45, and to an integer is 123\n"
          ]
        }
      ]
    },
    {
      "cell_type": "markdown",
      "source": [
        "Input/Output Functions:"
      ],
      "metadata": {
        "id": "Z1rAfcEoMp_v"
      }
    },
    {
      "cell_type": "code",
      "source": [
        "name = input(\"Enter your name: \")\n",
        "age = input(\"Enter your age: \")\n",
        "print(f\"Hello, {name}! You are {age} years old.\")"
      ],
      "metadata": {
        "colab": {
          "base_uri": "https://localhost:8080/"
        },
        "id": "q-HOFamHMpcz",
        "outputId": "3cd1c20d-8a75-4c03-81c3-53c025bd97d4"
      },
      "execution_count": null,
      "outputs": [
        {
          "output_type": "stream",
          "name": "stdout",
          "text": [
            "Enter your name: himadri\n",
            "Enter your age: 19\n",
            "Hello, himadri! You are 19 years old.\n"
          ]
        }
      ]
    },
    {
      "cell_type": "markdown",
      "source": [
        "Iterables and Collections:"
      ],
      "metadata": {
        "id": "SKlKV6uvM50Z"
      }
    },
    {
      "cell_type": "code",
      "source": [
        "fruits = [\"apple\", \"banana\", \"cherry\", \"date\"]\n",
        "length = len(fruits)\n",
        "print(f\"The list of fruits is {fruits}, and it contains {length} items.\")\n",
        "\n"
      ],
      "metadata": {
        "colab": {
          "base_uri": "https://localhost:8080/"
        },
        "id": "akFhcJf7M4bS",
        "outputId": "bbee0e0b-3d9c-4de3-d4ab-658eabec29bf"
      },
      "execution_count": null,
      "outputs": [
        {
          "output_type": "stream",
          "name": "stdout",
          "text": [
            "The list of fruits is ['apple', 'banana', 'cherry', 'date'], and it contains 4 items.\n"
          ]
        }
      ]
    },
    {
      "cell_type": "code",
      "source": [
        "unsorted_numbers = [5, 3, 8, 1, 2]\n",
        "sorted_numbers = sorted(unsorted_numbers)\n",
        "print(f\"The unsorted list is {unsorted_numbers}. The sorted list is{sorted_numbers}.\")\n"
      ],
      "metadata": {
        "colab": {
          "base_uri": "https://localhost:8080/"
        },
        "id": "db5H2-TKhIh2",
        "outputId": "0537e3ae-3dda-42ca-8b27-2f4de4d7821f"
      },
      "execution_count": null,
      "outputs": [
        {
          "output_type": "stream",
          "name": "stdout",
          "text": [
            "The unsorted list is [5, 3, 8, 1, 2]. The sorted list is[1, 2, 3, 5, 8].\n"
          ]
        }
      ]
    },
    {
      "cell_type": "code",
      "source": [
        "start = 1\n",
        "stop = 10\n",
        "step = 2\n",
        "number_sequence = list(range(start, stop, step))\n",
        "print(f\"The range from {start} to {stop} with a step of {step} is: {number_sequence}\")"
      ],
      "metadata": {
        "colab": {
          "base_uri": "https://localhost:8080/"
        },
        "id": "JRm18T_Gg5XU",
        "outputId": "f62baf24-f360-4f83-b21c-2350920573b8"
      },
      "execution_count": null,
      "outputs": [
        {
          "output_type": "stream",
          "name": "stdout",
          "text": [
            "The range from 1 to 10 with a step of 2 is: [1, 3, 5, 7, 9]\n"
          ]
        }
      ]
    },
    {
      "cell_type": "markdown",
      "source": [
        "Write a function to find the factorial of a number"
      ],
      "metadata": {
        "id": "fq4sN7H0qbqt"
      }
    },
    {
      "cell_type": "code",
      "source": [
        "def factorial(n):\n",
        "  if n == 0 or n == 1:\n",
        "     return 1\n",
        "  else:\n",
        "    return n * factorial(n - 1)\n",
        "num = 5\n",
        "result = factorial(num)\n",
        "print(f\"Factorial of {num} is {result}\")"
      ],
      "metadata": {
        "colab": {
          "base_uri": "https://localhost:8080/"
        },
        "id": "5pmuCDRLqFj-",
        "outputId": "387e617a-a0a3-474d-e638-dd41dd7a63a9"
      },
      "execution_count": null,
      "outputs": [
        {
          "output_type": "stream",
          "name": "stdout",
          "text": [
            "Factorial of 5 is 120\n"
          ]
        }
      ]
    },
    {
      "cell_type": "markdown",
      "source": [
        "Write a function to check if a number is prime"
      ],
      "metadata": {
        "id": "o9vcdPxErZW8"
      }
    },
    {
      "cell_type": "code",
      "source": [
        "def is_prime(num):\n",
        "   if num <= 1:\n",
        "       return False\n",
        "   for i in range(2, int(num**0.5) + 1):\n",
        "       if num % i == 0:\n",
        "           return False\n",
        "   return True\n",
        "\n",
        "print(is_prime(7))"
      ],
      "metadata": {
        "colab": {
          "base_uri": "https://localhost:8080/"
        },
        "id": "S7nKf55LrYxN",
        "outputId": "af15976b-c35f-4ead-a3fc-b80de3ee4e6e"
      },
      "execution_count": null,
      "outputs": [
        {
          "output_type": "stream",
          "name": "stdout",
          "text": [
            "True\n"
          ]
        }
      ]
    },
    {
      "cell_type": "markdown",
      "source": [
        " Write a function to calculate the nth Fibonacci number using recrusion"
      ],
      "metadata": {
        "id": "HgeZknTLsBQL"
      }
    },
    {
      "cell_type": "code",
      "source": [
        "def fibonacci(n):\n",
        "   if n <= 1:\n",
        "      return n\n",
        "   return fibonacci(n - 1) + fibonacci(n - 2)\n",
        "print(fibonacci(6))"
      ],
      "metadata": {
        "colab": {
          "base_uri": "https://localhost:8080/"
        },
        "id": "htwXvHf5sAzG",
        "outputId": "b93c169c-f929-4932-e06c-0e70b4c64720"
      },
      "execution_count": null,
      "outputs": [
        {
          "output_type": "stream",
          "name": "stdout",
          "text": [
            "8\n"
          ]
        }
      ]
    },
    {
      "cell_type": "markdown",
      "source": [
        "Find sum of digits.\n"
      ],
      "metadata": {
        "id": "o2Xiw_HrsYR7"
      }
    },
    {
      "cell_type": "code",
      "source": [
        "def sum_of_digits(n):\n",
        "\n",
        "    return sum(int(digit) for digit in str(n))\n",
        "\n",
        "print(sum_of_digits(1234))"
      ],
      "metadata": {
        "colab": {
          "base_uri": "https://localhost:8080/"
        },
        "id": "tIEt0eZUsX1k",
        "outputId": "3e222e66-ad61-4713-ea9d-3f597a718469"
      },
      "execution_count": null,
      "outputs": [
        {
          "output_type": "stream",
          "name": "stdout",
          "text": [
            "10\n"
          ]
        }
      ]
    },
    {
      "cell_type": "markdown",
      "source": [
        "Check Palindrome."
      ],
      "metadata": {
        "id": "TlSUYsZ8s-Rz"
      }
    },
    {
      "cell_type": "code",
      "source": [
        "def is_palindrome(s):\n",
        "  return s == s[::-1]\n",
        "\n",
        "print(is_palindrome(\"radar\"))\n",
        "print(is_palindrome(\"hello\"))"
      ],
      "metadata": {
        "colab": {
          "base_uri": "https://localhost:8080/"
        },
        "id": "rkXdMfKls9zU",
        "outputId": "4ad00561-8534-454c-bb38-b9be49403a6b"
      },
      "execution_count": null,
      "outputs": [
        {
          "output_type": "stream",
          "name": "stdout",
          "text": [
            "True\n",
            "False\n"
          ]
        }
      ]
    },
    {
      "cell_type": "markdown",
      "source": [
        "Write a function to Find GCD of Two Numbers."
      ],
      "metadata": {
        "id": "-aWlpLzAtZqS"
      }
    },
    {
      "cell_type": "code",
      "source": [
        "def gcd(a, b):\n",
        "  while b:\n",
        "     a, b = b, a % b\n",
        "  return a\n",
        "print(gcd(12, 18))"
      ],
      "metadata": {
        "colab": {
          "base_uri": "https://localhost:8080/"
        },
        "id": "nWn1gGIYtY-W",
        "outputId": "4b491836-9b64-4fc9-86b7-89e238b104e6"
      },
      "execution_count": null,
      "outputs": [
        {
          "output_type": "stream",
          "name": "stdout",
          "text": [
            "6\n"
          ]
        }
      ]
    },
    {
      "cell_type": "markdown",
      "source": [
        "Count Vowels in a String."
      ],
      "metadata": {
        "id": "o6i7sSYfuBt7"
      }
    },
    {
      "cell_type": "code",
      "source": [
        "def count_vowels(s):\n",
        "  vowels = \"aeiouAEIOU\"\n",
        "  return sum(1 for char in s if char in vowels)\n",
        "print(count_vowels(\"hello world\"))"
      ],
      "metadata": {
        "colab": {
          "base_uri": "https://localhost:8080/"
        },
        "id": "6eQzMkauuBIO",
        "outputId": "e2adbd9c-cd49-46b7-8cc7-2a2f1950607a"
      },
      "execution_count": null,
      "outputs": [
        {
          "output_type": "stream",
          "name": "stdout",
          "text": [
            "3\n"
          ]
        }
      ]
    },
    {
      "cell_type": "markdown",
      "source": [
        "Check Armstrong Number."
      ],
      "metadata": {
        "id": "qmCRYSC9uUWi"
      }
    },
    {
      "cell_type": "code",
      "source": [
        "def is_armstrong(n):\n",
        "  num_str = str(n)\n",
        "  num_digits = len(num_str)\n",
        "  return sum(int(digit) ** num_digits for digit in num_str) == n\n",
        "print(is_armstrong(153))\n",
        "print(is_armstrong(123))"
      ],
      "metadata": {
        "colab": {
          "base_uri": "https://localhost:8080/"
        },
        "id": "0M9fIb84uT7s",
        "outputId": "563db307-b780-4012-e8cc-9bb51a86c2cb"
      },
      "execution_count": null,
      "outputs": [
        {
          "output_type": "stream",
          "name": "stdout",
          "text": [
            "True\n",
            "False\n"
          ]
        }
      ]
    }
  ]
}