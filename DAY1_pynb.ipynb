{
  "cells": [
    {
      "cell_type": "markdown",
      "metadata": {
        "id": "view-in-github",
        "colab_type": "text"
      },
      "source": [
        "<a href=\"https://colab.research.google.com/github/Himadreee18/Python/blob/main/DAY1_pynb.ipynb\" target=\"_parent\"><img src=\"https://colab.research.google.com/assets/colab-badge.svg\" alt=\"Open In Colab\"/></a>"
      ]
    },
    {
      "cell_type": "code",
      "execution_count": null,
      "metadata": {
        "colab": {
          "base_uri": "https://localhost:8080/"
        },
        "id": "y39RKSX0yRwb",
        "outputId": "03fcc1bd-b9a1-4b4b-dc69-99c7a91a6a40"
      },
      "outputs": [
        {
          "name": "stdout",
          "output_type": "stream",
          "text": [
            "Hellow, World\n"
          ]
        }
      ],
      "source": [
        "print(\"Hellow, World\")"
      ]
    },
    {
      "cell_type": "code",
      "execution_count": null,
      "metadata": {
        "colab": {
          "base_uri": "https://localhost:8080/"
        },
        "id": "omMd00dgybr2",
        "outputId": "1e1bdbfd-c564-4210-9e65-499965f6afe0"
      },
      "outputs": [
        {
          "name": "stdout",
          "output_type": "stream",
          "text": [
            "Hellow, World\n"
          ]
        }
      ],
      "source": [
        "print(\"Hellow, World\")"
      ]
    },
    {
      "cell_type": "code",
      "execution_count": null,
      "metadata": {
        "colab": {
          "base_uri": "https://localhost:8080/"
        },
        "id": "XzesJaEHyljb",
        "outputId": "c9ee38d0-fc73-401a-883a-474cba2bc076"
      },
      "outputs": [
        {
          "name": "stdout",
          "output_type": "stream",
          "text": [
            "5\n"
          ]
        }
      ],
      "source": [
        "def add(a, b):\n",
        "    return a + b\n",
        "print(add(2, 3))  # Output"
      ]
    },
    {
      "cell_type": "code",
      "execution_count": null,
      "metadata": {
        "colab": {
          "base_uri": "https://localhost:8080/"
        },
        "id": "53YaS7nZzESO",
        "outputId": "bfb2ec2a-8b14-455e-96f9-36c31edf3f4f"
      },
      "outputs": [
        {
          "name": "stdout",
          "output_type": "stream",
          "text": [
            "15\n"
          ]
        }
      ],
      "source": [
        "a = 5\n",
        "b = 10\n",
        "print(a + b)  # Output: 15"
      ]
    },
    {
      "cell_type": "markdown",
      "metadata": {
        "id": "4pgXV8mBzzmn"
      },
      "source": [
        "print string"
      ]
    },
    {
      "cell_type": "code",
      "execution_count": null,
      "metadata": {
        "colab": {
          "background_save": true
        },
        "id": "NAShoM4UzPzk",
        "outputId": "4e16b5e4-8bfe-4729-d225-50299e94e1f3"
      },
      "outputs": [
        {
          "name": "stdout",
          "output_type": "stream",
          "text": [
            "Hellow, World\n"
          ]
        }
      ],
      "source": [
        "print"
      ]
    },
    {
      "cell_type": "markdown",
      "source": [
        "print variables\n"
      ],
      "metadata": {
        "id": "n1dC6z6z3OvD"
      }
    },
    {
      "cell_type": "code",
      "source": [
        "name = \"Alice\"\n",
        "age = 25\n",
        "print(name)\n",
        "print(age)"
      ],
      "metadata": {
        "id": "HifewH3x3Ms-",
        "colab": {
          "base_uri": "https://localhost:8080/"
        },
        "outputId": "ed265f1f-58b0-4320-fcda-979d83334803"
      },
      "execution_count": null,
      "outputs": [
        {
          "output_type": "stream",
          "name": "stdout",
          "text": [
            "Alice\n",
            "25\n"
          ]
        }
      ]
    },
    {
      "cell_type": "markdown",
      "source": [
        "print multiple values"
      ],
      "metadata": {
        "id": "kV46t-kk8xny"
      }
    },
    {
      "cell_type": "code",
      "source": [
        "name = \"Alice\"\n",
        "age = 25\n",
        "print(\"Name:\", name, \"Age:\",age)"
      ],
      "metadata": {
        "colab": {
          "base_uri": "https://localhost:8080/"
        },
        "id": "y0PFU5Tb8w-L",
        "outputId": "e16a22be-ae24-4b38-9be8-a6141ba20852"
      },
      "execution_count": null,
      "outputs": [
        {
          "output_type": "stream",
          "name": "stdout",
          "text": [
            "Name: Alice Age: 25\n"
          ]
        }
      ]
    },
    {
      "cell_type": "markdown",
      "source": [
        "formatted string literals"
      ],
      "metadata": {
        "id": "4E7F6U889ahp"
      }
    },
    {
      "cell_type": "code",
      "source": [
        "name = \"Alice\"\n",
        "age  = 25\n",
        "print(f\"Name: {name},Age: {age}\")"
      ],
      "metadata": {
        "colab": {
          "base_uri": "https://localhost:8080/"
        },
        "id": "2nE4M-d69Zar",
        "outputId": "d775c468-5ce8-41a6-bd7f-a4aa5ecf3da7"
      },
      "execution_count": null,
      "outputs": [
        {
          "output_type": "stream",
          "name": "stdout",
          "text": [
            "Name: Alice,Age: 25\n"
          ]
        }
      ]
    },
    {
      "cell_type": "markdown",
      "source": [
        "using formmated method"
      ],
      "metadata": {
        "id": "hI0OxPyV-Uq6"
      }
    },
    {
      "cell_type": "code",
      "source": [
        "name = \"Alice\"\n",
        "age = 25\n",
        "print(\"Name: {}, Age: {}\".format(name, age))"
      ],
      "metadata": {
        "colab": {
          "base_uri": "https://localhost:8080/"
        },
        "id": "H7sF5CQq-UBq",
        "outputId": "b06c8199-8c2f-4061-c709-b0d836f885b9"
      },
      "execution_count": null,
      "outputs": [
        {
          "output_type": "stream",
          "name": "stdout",
          "text": [
            "Name: Alice, Age: 25\n"
          ]
        }
      ]
    },
    {
      "cell_type": "markdown",
      "source": [
        "printed formmated numbers"
      ],
      "metadata": {
        "id": "mVa0PDQsCIDk"
      }
    },
    {
      "cell_type": "code",
      "source": [
        "number = 1234567.89123\n",
        "print(f\"Formatted Number: {number:.2f}\")"
      ],
      "metadata": {
        "colab": {
          "base_uri": "https://localhost:8080/"
        },
        "id": "-RmHtpCcCHXM",
        "outputId": "f49e68e5-05ea-4d61-8bf4-e41890f6c3a6"
      },
      "execution_count": null,
      "outputs": [
        {
          "output_type": "stream",
          "name": "stdout",
          "text": [
            "Formatted Number: 1234567.89\n"
          ]
        }
      ]
    },
    {
      "cell_type": "markdown",
      "source": [
        "Program to print\"Hellow, World!\""
      ],
      "metadata": {
        "id": "EewMn9hy-COR"
      }
    },
    {
      "cell_type": "code",
      "source": [
        "print(\"Hellow,World!\")"
      ],
      "metadata": {
        "colab": {
          "base_uri": "https://localhost:8080/"
        },
        "id": "JueVVXI7-BIM",
        "outputId": "fe1fdde0-d75e-479a-9ae2-d9550975d060"
      },
      "execution_count": null,
      "outputs": [
        {
          "output_type": "stream",
          "name": "stdout",
          "text": [
            "Hellow,World!\n"
          ]
        }
      ]
    },
    {
      "cell_type": "markdown",
      "source": [
        "program to add two numbers"
      ],
      "metadata": {
        "id": "je9NTzEh-fvi"
      }
    },
    {
      "cell_type": "code",
      "source": [
        "num1 = float(input(\"Enter the first number\" ))\n",
        "num2 = float(input(\"Enter the second number\"))\n",
        "addition = num1 + num2\n",
        "print(\"Addition:\", addition)"
      ],
      "metadata": {
        "colab": {
          "base_uri": "https://localhost:8080/"
        },
        "id": "MWg-Kqui-c0K",
        "outputId": "1d97772f-df53-4410-e370-62119d8cfdfd"
      },
      "execution_count": null,
      "outputs": [
        {
          "output_type": "stream",
          "name": "stdout",
          "text": [
            "Enter the first number10\n",
            "Enter the second number10\n",
            "Addition: 20.0\n"
          ]
        }
      ]
    },
    {
      "cell_type": "markdown",
      "source": [
        "program to swap two numbers using a temporary variable"
      ],
      "metadata": {
        "id": "BMEzZuko_8aC"
      }
    },
    {
      "cell_type": "code",
      "source": [
        "a = int(input(\"Enter the first number:\"))\n",
        "b = int(input(\"Enter the second number:\"))\n",
        "temp = a\n",
        "a = b\n",
        "b = temp\n",
        "print(\"After swapping:\")\n",
        "print(\"First number:\", a)\n",
        "print(\"Second number:\", b)"
      ],
      "metadata": {
        "colab": {
          "base_uri": "https://localhost:8080/"
        },
        "id": "9AggjxyR_rED",
        "outputId": "edca2f05-5ed0-48c4-eb91-cd69634e4f8e"
      },
      "execution_count": null,
      "outputs": [
        {
          "output_type": "stream",
          "name": "stdout",
          "text": [
            "Enter the first number:10\n",
            "Enter the second number:5\n",
            "After swapping:\n",
            "First number: 5\n",
            "Second number: 10\n"
          ]
        }
      ]
    },
    {
      "cell_type": "markdown",
      "source": [
        "program to swap two numbers without using a third variable"
      ],
      "metadata": {
        "id": "7mX_T7DACqPQ"
      }
    },
    {
      "cell_type": "code",
      "source": [
        "a = int(input(\"Enter the first number: \"))\n",
        "b = int(input(\"Enter the second number: \"))\n",
        "a = a + b\n",
        "b = a - b\n",
        "a = a - b\n",
        "print(\"After swapping:\")\n",
        "print(\"First number:\",a)\n",
        "print(\"Second number:\", b)"
      ],
      "metadata": {
        "colab": {
          "base_uri": "https://localhost:8080/"
        },
        "id": "eeFzPbpyCnPi",
        "outputId": "486096fc-db81-4ea3-aca3-d185cfd5d9fc"
      },
      "execution_count": null,
      "outputs": [
        {
          "output_type": "stream",
          "name": "stdout",
          "text": [
            "Enter the first number: 10\n",
            "Enter the second number: 5\n",
            "After swapping:\n",
            "First number: 5\n",
            "Second number: 10\n"
          ]
        }
      ]
    },
    {
      "cell_type": "markdown",
      "source": [
        "program to calculate the area and perimeter of the triangle"
      ],
      "metadata": {
        "id": "O83QuaeaEgtV"
      }
    },
    {
      "cell_type": "code",
      "source": [
        "import math\n",
        "a = float(input(\"Enter the first side: \"))\n",
        "b = float(input(\"Enter the second side: \"))\n",
        "c= float(input(\"Enter the third side: \"))\n",
        "perimeter = a + b + c\n",
        "print(\"Perimeter of the triangle:\", perimeter)\n",
        "s = perimeter / 2\n",
        "area = math.sqrt(s * (s - a) * (s - b) * (s - c))\n",
        "print(\"Area of the triangle:\",area)"
      ],
      "metadata": {
        "colab": {
          "base_uri": "https://localhost:8080/"
        },
        "id": "mnhA5P1eEgKX",
        "outputId": "3ad958f7-5c95-4c24-c005-fd35a3ffd2e3"
      },
      "execution_count": null,
      "outputs": [
        {
          "output_type": "stream",
          "name": "stdout",
          "text": [
            "Enter the first side: 10\n",
            "Enter the second side: 20\n",
            "Enter the third side: 30\n",
            "Perimeter of the triangle: 60.0\n",
            "Area of the triangle: 0.0\n"
          ]
        }
      ]
    },
    {
      "cell_type": "markdown",
      "source": [
        "program to calculate the simple intrest"
      ],
      "metadata": {
        "id": "WSovPq5rH2qe"
      }
    },
    {
      "cell_type": "code",
      "source": [
        "import math\n",
        "p = float(input(\"Enter the principal amount: \"))\n",
        "r = float(input(\"Enter the rate of intrest(in %):\"))\n",
        "time = float(input(\"Enter time (in yerars);\"))\n",
        "simple_intrest = (p * r * time) / 100\n",
        "print(\"Simple intrest is:\",simple_intrest)\n"
      ],
      "metadata": {
        "colab": {
          "base_uri": "https://localhost:8080/"
        },
        "id": "sazKgexjGw0X",
        "outputId": "00d808e0-cd1d-4c13-f516-ac2b4cca4882"
      },
      "execution_count": null,
      "outputs": [
        {
          "output_type": "stream",
          "name": "stdout",
          "text": [
            "Enter the principal amount: 1000\n",
            "Enter the rate of intrest(in %):2\n",
            "Enter time (in yerars);3\n",
            "Simple intrest is: 60.0\n"
          ]
        }
      ]
    },
    {
      "cell_type": "markdown",
      "source": [
        "program to calculate the surfacearea of cylinder"
      ],
      "metadata": {
        "id": "IYriC8C8JeGH"
      }
    },
    {
      "cell_type": "code",
      "source": [
        "import math\n",
        "r = float(input(\"Enter the radius of the cylinder: \"))\n",
        "h = float(input(\"Enter the height of cylinder: \"))\n",
        "surface_area = 2 * math.pi * r * (r + h)\n",
        "print(\"The surface area of the cylinder is: \",surface_area)"
      ],
      "metadata": {
        "colab": {
          "base_uri": "https://localhost:8080/"
        },
        "id": "m3h6ppEqJdS4",
        "outputId": "b207a2b9-2272-4d73-e3ec-ddba470acaac"
      },
      "execution_count": null,
      "outputs": [
        {
          "output_type": "stream",
          "name": "stdout",
          "text": [
            "Enter the radius of the cylinder: 7\n",
            "Enter the height of cylinder: 15\n",
            "The surface area of the cylinder is:  967.6105373056563\n"
          ]
        }
      ]
    },
    {
      "cell_type": "markdown",
      "source": [
        "program to calculate the hypotenuese of right angled triangle"
      ],
      "metadata": {
        "id": "-R9EsNM3LCyv"
      }
    },
    {
      "cell_type": "code",
      "source": [
        "side1 = float(input('Enter the first side of triangle: '))\n",
        "side2 = float(input(\"Enter thesecond side of triangle: \"))\n",
        "h = math.sqrt(side1**2 + side2**2)\n",
        "print(\"The hypotenuse of the triangle is:\", h)"
      ],
      "metadata": {
        "colab": {
          "base_uri": "https://localhost:8080/"
        },
        "id": "FSzsaaX0LAHp",
        "outputId": "4fd07606-340c-4d10-f5e6-ae11db7ef960"
      },
      "execution_count": null,
      "outputs": [
        {
          "output_type": "stream",
          "name": "stdout",
          "text": [
            "Enter the first side of triangle: 5\n",
            "Enter thesecond side of triangle: 4\n",
            "The hypotenuse of the triangle is: 6.4031242374328485\n"
          ]
        }
      ]
    },
    {
      "cell_type": "markdown",
      "source": [
        "program to calculate the compound intrest"
      ],
      "metadata": {
        "id": "MThPBAONMHVH"
      }
    },
    {
      "cell_type": "code",
      "source": [
        "p = float(input(\"Enter the principal amount: \"))\n",
        "r = float(input(\"Enter the rate of intrest(in %):\"))\n",
        "t = float(input(\"Enter the time (in years): \"))\n",
        "compound_interest = p * (1 + r / 100) ** t - p\n",
        "print(\"The compound interest is:\",compound_interest)"
      ],
      "metadata": {
        "colab": {
          "base_uri": "https://localhost:8080/"
        },
        "id": "bFmURxrqMGdZ",
        "outputId": "72de14a8-451c-4724-974e-4ec6bf43ce64"
      },
      "execution_count": null,
      "outputs": [
        {
          "output_type": "stream",
          "name": "stdout",
          "text": [
            "Enter the principal amount: 1000\n",
            "Enter the rate of intrest(in %):2\n",
            "Enter the time (in years): 4\n",
            "The compound interest is: 82.43216000000007\n"
          ]
        }
      ]
    }
  ],
  "metadata": {
    "colab": {
      "provenance": [],
      "authorship_tag": "ABX9TyNY0h4Nsql/aCq0gzUDswD7",
      "include_colab_link": true
    },
    "kernelspec": {
      "display_name": "Python 3",
      "name": "python3"
    },
    "language_info": {
      "name": "python"
    }
  },
  "nbformat": 4,
  "nbformat_minor": 0
}