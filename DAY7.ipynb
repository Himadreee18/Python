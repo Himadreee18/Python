{
  "nbformat": 4,
  "nbformat_minor": 0,
  "metadata": {
    "colab": {
      "provenance": [],
      "authorship_tag": "ABX9TyOsJeSocsL3KUpxovehGhVV",
      "include_colab_link": true
    },
    "kernelspec": {
      "name": "python3",
      "display_name": "Python 3"
    },
    "language_info": {
      "name": "python"
    }
  },
  "cells": [
    {
      "cell_type": "markdown",
      "metadata": {
        "id": "view-in-github",
        "colab_type": "text"
      },
      "source": [
        "<a href=\"https://colab.research.google.com/github/Himadreee18/Python/blob/main/DAY7.ipynb\" target=\"_parent\"><img src=\"https://colab.research.google.com/assets/colab-badge.svg\" alt=\"Open In Colab\"/></a>"
      ]
    },
    {
      "cell_type": "markdown",
      "source": [
        "global nonlocal and local variable"
      ],
      "metadata": {
        "id": "mn85Y9ImEv3v"
      }
    },
    {
      "cell_type": "code",
      "execution_count": null,
      "metadata": {
        "colab": {
          "base_uri": "https://localhost:8080/"
        },
        "id": "Psjx9MZ0A9vX",
        "outputId": "ccba0131-401f-4d05-9dba-43fe95c0a073"
      },
      "outputs": [
        {
          "output_type": "stream",
          "name": "stdout",
          "text": [
            "Nonlocal y: 30\n",
            "Global x: 10\n"
          ]
        }
      ],
      "source": [
        "x = 10\n",
        "def outer_function():\n",
        "  y = 20\n",
        "  def inner_function():\n",
        "      nonlocal y\n",
        "      y += 10\n",
        "      print(f\"Nonlocal y: {y}\")\n",
        "\n",
        "  inner_function()\n",
        "  print(f\"Global x: {x}\")\n",
        "outer_function()"
      ]
    },
    {
      "cell_type": "markdown",
      "source": [
        "# ***Recrusion***"
      ],
      "metadata": {
        "id": "sRZMtBl4NVbV"
      }
    },
    {
      "cell_type": "markdown",
      "source": [
        " Calculate the factorial of a number using recursive function.\n"
      ],
      "metadata": {
        "id": "Zpi8mdSGPXj3"
      }
    },
    {
      "cell_type": "code",
      "source": [
        "def fact(num):\n",
        "  if num == 0:\n",
        "    return 1\n",
        "  else:\n",
        "    return num * fact(num-1)\n",
        "\n",
        "n = int(input(\"Enter a number: \"))\n",
        "f = fact(n)\n",
        "print(f\"The factorial of {n} is {f}\")\n"
      ],
      "metadata": {
        "colab": {
          "base_uri": "https://localhost:8080/"
        },
        "id": "o2aswpeYNUpm",
        "outputId": "469f2e9e-d1dd-4e33-9c8c-54f8d5c758f5"
      },
      "execution_count": null,
      "outputs": [
        {
          "output_type": "stream",
          "name": "stdout",
          "text": [
            "Enter a number: 10\n",
            "The factorial of 10 is 3628800\n"
          ]
        }
      ]
    },
    {
      "cell_type": "markdown",
      "source": [
        "Print the fibonacci series using recursive function.\n"
      ],
      "metadata": {
        "id": "M3Jrz_MLPbrc"
      }
    },
    {
      "cell_type": "code",
      "source": [
        "def fib(num):\n",
        "    if num==0:\n",
        "      return 0\n",
        "    elif num==1:\n",
        "      return 1\n",
        "    else:\n",
        "      return fib(num-1) + fib(num-2)\n",
        "\n",
        "r = int(input(\"Enter a range: \"))\n",
        "for i in range(r):\n",
        "    print(fib(i), end=' ')\n"
      ],
      "metadata": {
        "colab": {
          "base_uri": "https://localhost:8080/"
        },
        "id": "urZTnbOYPWqv",
        "outputId": "d4c52892-06f7-42b7-fad4-296fc7403f40"
      },
      "execution_count": null,
      "outputs": [
        {
          "output_type": "stream",
          "name": "stdout",
          "text": [
            "Enter a range: 8\n",
            "0 1 1 2 3 5 8 13 "
          ]
        }
      ]
    },
    {
      "cell_type": "markdown",
      "source": [
        "# *lambda* **function**\n",
        "Program to find the sum of three numbers.\n"
      ],
      "metadata": {
        "id": "S0rkVY31SQUH"
      }
    },
    {
      "cell_type": "code",
      "source": [
        "result = lambda x,y,z: x+y+z\n",
        "print(result(10,20,30))\n",
        "print(result(1,5,6))"
      ],
      "metadata": {
        "colab": {
          "base_uri": "https://localhost:8080/"
        },
        "id": "8R27HZtaSP24",
        "outputId": "1e42383b-e830-48c3-eeab-670d74adbb0b"
      },
      "execution_count": null,
      "outputs": [
        {
          "output_type": "stream",
          "name": "stdout",
          "text": [
            "60\n",
            "12\n"
          ]
        }
      ]
    },
    {
      "cell_type": "markdown",
      "source": [
        "filter() function"
      ],
      "metadata": {
        "id": "EY2AbpgdTg3U"
      }
    },
    {
      "cell_type": "code",
      "source": [
        "n = {1,2,3,4,5,6,7,8,9,10}\n",
        "\n",
        "even = list(filter(lambda x: x%2==0, n))\n",
        "print(even)"
      ],
      "metadata": {
        "colab": {
          "base_uri": "https://localhost:8080/"
        },
        "id": "UH_nD_2nTfpK",
        "outputId": "ebd3e2c5-58e7-4897-bf4a-94d5d7f4b1a8"
      },
      "execution_count": null,
      "outputs": [
        {
          "output_type": "stream",
          "name": "stdout",
          "text": [
            "[2, 4, 6, 8, 10]\n"
          ]
        }
      ]
    },
    {
      "cell_type": "markdown",
      "source": [
        "Same as example 3 but using lambda function\n"
      ],
      "metadata": {
        "id": "2C5TvI8rbx3u"
      }
    },
    {
      "cell_type": "code",
      "source": [
        "age = [5, 18, 23, 15, 25, 65, 74, 85, 12]\n",
        "adults = list(filter(lambda x: x>=18, age))\n",
        "print(adults)"
      ],
      "metadata": {
        "id": "Isx-cTEHWJYa",
        "colab": {
          "base_uri": "https://localhost:8080/"
        },
        "outputId": "3a217595-c3e1-4df9-cc6e-361e319ffce1"
      },
      "execution_count": null,
      "outputs": [
        {
          "output_type": "stream",
          "name": "stdout",
          "text": [
            "[18, 23, 25, 65, 74, 85]\n"
          ]
        }
      ]
    },
    {
      "cell_type": "markdown",
      "source": [
        "map() Function"
      ],
      "metadata": {
        "id": "2K_w2I0I8rTc"
      }
    },
    {
      "cell_type": "code",
      "source": [
        "num_list = [1,2,3,4,5,6,7,8,9,10]\n",
        "square = list(map(lambda x: x**2, num_list))\n",
        "print(square)"
      ],
      "metadata": {
        "colab": {
          "base_uri": "https://localhost:8080/"
        },
        "id": "gQp2Zc838q2e",
        "outputId": "c849f5e3-a0c5-4030-a451-48b410602204"
      },
      "execution_count": null,
      "outputs": [
        {
          "output_type": "stream",
          "name": "stdout",
          "text": [
            "[1, 4, 9, 16, 25, 36, 49, 64, 81, 100]\n"
          ]
        }
      ]
    },
    {
      "cell_type": "markdown",
      "source": [
        "Finding Area of circles whose radii are in a list."
      ],
      "metadata": {
        "id": "cHZHTkQG94lL"
      }
    },
    {
      "cell_type": "code",
      "source": [
        "radius_list = [0, 10, 20, 30, 40, 50]\n",
        "area = list(map(lambda x: 3.14*x**2, radius_list))\n",
        "area = list(area)\n",
        "print(area)"
      ],
      "metadata": {
        "colab": {
          "base_uri": "https://localhost:8080/"
        },
        "id": "72wW6i4N88Ku",
        "outputId": "c2311991-c27f-4a0b-c785-c4cd65ab6bdc"
      },
      "execution_count": null,
      "outputs": [
        {
          "output_type": "stream",
          "name": "stdout",
          "text": [
            "[0.0, 314.0, 1256.0, 2826.0, 5024.0, 7850.0]\n"
          ]
        }
      ]
    },
    {
      "cell_type": "markdown",
      "source": [
        "Find the largest item from a given list."
      ],
      "metadata": {
        "id": "pM4o7EBcAF0_"
      }
    },
    {
      "cell_type": "code",
      "source": [
        "from functools import reduce\n",
        "num_list = [1,2,3,4,5,6,7,8,9,10]\n",
        "largest = reduce(lambda x,y: x if x>y else y, num_list)\n",
        "print(largest)"
      ],
      "metadata": {
        "id": "Imp2BzYgAFKE",
        "colab": {
          "base_uri": "https://localhost:8080/"
        },
        "outputId": "68c71b11-2524-426e-89c9-37c24027b355"
      },
      "execution_count": null,
      "outputs": [
        {
          "output_type": "stream",
          "name": "stdout",
          "text": [
            "10\n"
          ]
        }
      ]
    },
    {
      "cell_type": "markdown",
      "source": [
        "summming all elements in a list"
      ],
      "metadata": {
        "id": "PeJAlb-UBLWG"
      }
    },
    {
      "cell_type": "code",
      "source": [
        "from functools import reduce\n",
        "num_list = [1,2,3,4,5,6,7,8,9,10]\n",
        "sum = reduce(lambda x,y: x+y, num_list)\n",
        "print(sum)"
      ],
      "metadata": {
        "colab": {
          "base_uri": "https://localhost:8080/"
        },
        "id": "x_cPjJ9vBKoZ",
        "outputId": "cb0d304f-85b1-446e-ae71-d478969562cf"
      },
      "execution_count": null,
      "outputs": [
        {
          "output_type": "stream",
          "name": "stdout",
          "text": [
            "55\n"
          ]
        }
      ]
    },
    {
      "cell_type": "markdown",
      "source": [
        "# ***capgemini***"
      ],
      "metadata": {
        "id": "59Cs_Z3ACG4W"
      }
    },
    {
      "cell_type": "markdown",
      "source": [
        "count words in a sentence"
      ],
      "metadata": {
        "id": "vIZgOZKfCTz-"
      }
    },
    {
      "cell_type": "code",
      "source": [
        "s = \"Python is fun.\"\n",
        "word_count = len(s.split())\n",
        "print(word_count)"
      ],
      "metadata": {
        "colab": {
          "base_uri": "https://localhost:8080/"
        },
        "id": "VicjqdEcCF5K",
        "outputId": "09900310-2a9d-42e8-a1ca-52c9f8eb1e24"
      },
      "execution_count": null,
      "outputs": [
        {
          "output_type": "stream",
          "name": "stdout",
          "text": [
            "3\n"
          ]
        }
      ]
    },
    {
      "cell_type": "markdown",
      "source": [
        "calculate the power of a number using recursion"
      ],
      "metadata": {
        "id": "EtUHDtLGDNzV"
      }
    },
    {
      "cell_type": "code",
      "source": [
        "\n",
        "def power(base, exp):\n",
        "    if exp == 0:\n",
        "        return 1\n",
        "    elif exp == 1:\n",
        "        return base\n",
        "    else:\n",
        "        return base * power(base, exp - 1)\n",
        "\n",
        "base = int(input(\"Enter the base: \"))\n",
        "exp = int(input(\"Enter the exponent: \"))\n",
        "result = power(base, exp)\n",
        "print(f\"{base} raised to the power of {exp} is {result}\")\n",
        "\n"
      ],
      "metadata": {
        "colab": {
          "base_uri": "https://localhost:8080/"
        },
        "id": "HHzKMlu-DNMR",
        "outputId": "7d4dad7c-371d-4de6-986c-84edff02a64a"
      },
      "execution_count": null,
      "outputs": [
        {
          "output_type": "stream",
          "name": "stdout",
          "text": [
            "Enter the base: 9\n",
            "Enter the exponent: 5\n",
            "9 raised to the power of 5 is 59049\n"
          ]
        }
      ]
    },
    {
      "cell_type": "markdown",
      "source": [
        "find the smallest missing positive integer in an array"
      ],
      "metadata": {
        "id": "BCcQP4DeEATt"
      }
    },
    {
      "cell_type": "code",
      "source": [
        "def smallest_missing_positive(nums):\n",
        "    n = len(nums)\n",
        "    for i in range(n):\n",
        "        if nums[i] <= 0 or nums[i] > n:\n",
        "            nums[i] = n + 1\n",
        "    for num in nums:\n",
        "        if 1 <= abs(num) <= n:\n",
        "            nums[abs(num) - 1] = -abs(nums[abs(num) - 1])\n",
        "\n",
        "    for i in range(n):\n",
        "        if nums[i] > 0:\n",
        "            return i + 1\n",
        "    return n + 1\n",
        "nums = [3, 4, -1, 1]\n",
        "print(smallest_missing_positive(nums))\n"
      ],
      "metadata": {
        "colab": {
          "base_uri": "https://localhost:8080/"
        },
        "id": "wDw1iu4PFUEc",
        "outputId": "57dc9b6c-1155-4d27-cdf8-8df486192944"
      },
      "execution_count": null,
      "outputs": [
        {
          "output_type": "stream",
          "name": "stdout",
          "text": [
            "2\n"
          ]
        }
      ]
    }
  ]
}