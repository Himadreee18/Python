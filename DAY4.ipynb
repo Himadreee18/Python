{
  "nbformat": 4,
  "nbformat_minor": 0,
  "metadata": {
    "colab": {
      "provenance": [],
      "authorship_tag": "ABX9TyMP3vOn5bGqXKhuYRrFeYMp",
      "include_colab_link": true
    },
    "kernelspec": {
      "name": "python3",
      "display_name": "Python 3"
    },
    "language_info": {
      "name": "python"
    }
  },
  "cells": [
    {
      "cell_type": "markdown",
      "metadata": {
        "id": "view-in-github",
        "colab_type": "text"
      },
      "source": [
        "<a href=\"https://colab.research.google.com/github/Himadreee18/Python/blob/main/DAY4.ipynb\" target=\"_parent\"><img src=\"https://colab.research.google.com/assets/colab-badge.svg\" alt=\"Open In Colab\"/></a>"
      ]
    },
    {
      "cell_type": "code",
      "execution_count": null,
      "metadata": {
        "colab": {
          "base_uri": "https://localhost:8080/"
        },
        "id": "1N140XJWSxk-",
        "outputId": "efae241e-afe7-467c-cef0-3d043c1ced58"
      },
      "outputs": [
        {
          "output_type": "stream",
          "name": "stdout",
          "text": [
            "Student is passed.\n"
          ]
        }
      ],
      "source": [
        "#if else\n",
        "marks = 30\n",
        "if marks >= 30:\n",
        "  print(\"Student is passed.\")"
      ]
    },
    {
      "cell_type": "markdown",
      "source": [
        "if statement"
      ],
      "metadata": {
        "id": "Yx5C0NliURkX"
      }
    },
    {
      "cell_type": "code",
      "source": [
        "age = 18\n",
        "if age >= 18:\n",
        "   print(\"You are eligible to vote.\")"
      ],
      "metadata": {
        "colab": {
          "base_uri": "https://localhost:8080/"
        },
        "id": "K1Bh6syqUDVD",
        "outputId": "357029e7-97ae-43db-ed8f-41930f6bbd66"
      },
      "execution_count": null,
      "outputs": [
        {
          "output_type": "stream",
          "name": "stdout",
          "text": [
            "You are eligible to vote.\n"
          ]
        }
      ]
    },
    {
      "cell_type": "markdown",
      "source": [
        "if-else statement"
      ],
      "metadata": {
        "id": "7j_Bj4bNUhRZ"
      }
    },
    {
      "cell_type": "code",
      "source": [
        "number = 5\n",
        "if number % 2 == 0:\n",
        "   print(\"The number is even.\")\n",
        "else:\n",
        "   print(\"The number is odd.\")"
      ],
      "metadata": {
        "colab": {
          "base_uri": "https://localhost:8080/"
        },
        "id": "mJ0us3Z8UgaZ",
        "outputId": "c666e8f6-dadb-42d5-c5fe-4c407dee0710"
      },
      "execution_count": null,
      "outputs": [
        {
          "output_type": "stream",
          "name": "stdout",
          "text": [
            "The number is odd.\n"
          ]
        }
      ]
    },
    {
      "cell_type": "markdown",
      "source": [
        "nested if statemants"
      ],
      "metadata": {
        "id": "-iDLgkB4WVgx"
      }
    },
    {
      "cell_type": "code",
      "source": [
        "age = 20\n",
        "citizenship = \"Indian\"\n",
        "if age >= 18:\n",
        "  if citizenship == \"Indian\":\n",
        "     print(\"You are eligible to vote in india.\")\n",
        "  else:\n",
        "      print(\"You are not an indian citizen.\")\n",
        "else:\n",
        "   print(\"You are not eligible to vote.\")"
      ],
      "metadata": {
        "colab": {
          "base_uri": "https://localhost:8080/"
        },
        "id": "Rke0XnrFWTXG",
        "outputId": "516de7b4-8fe6-4efa-d8fc-9722870be6d2"
      },
      "execution_count": null,
      "outputs": [
        {
          "output_type": "stream",
          "name": "stdout",
          "text": [
            "You are eligible to vote in india.\n"
          ]
        }
      ]
    },
    {
      "cell_type": "markdown",
      "source": [
        "elif statement"
      ],
      "metadata": {
        "id": "QG1evhoYgiZ9"
      }
    },
    {
      "cell_type": "code",
      "source": [
        "marks = 85\n",
        "if marks >= 90:\n",
        "  print(\"Grade: A+\")\n",
        "elif marks >= 80:\n",
        "  print(\"Grade: A\")\n",
        "elif marks >= 70:\n",
        "  print(\"Grade: B\")\n",
        "elif marks >= 60:\n",
        "  print(\"Grade: C\")\n",
        "else:\n",
        "  print(\"Grade: F\")\n"
      ],
      "metadata": {
        "colab": {
          "base_uri": "https://localhost:8080/"
        },
        "id": "GH9xfkz7Yom0",
        "outputId": "17660a36-ca71-447c-b694-53edb5228bab"
      },
      "execution_count": null,
      "outputs": [
        {
          "output_type": "stream",
          "name": "stdout",
          "text": [
            "Grade: A\n"
          ]
        }
      ]
    },
    {
      "cell_type": "markdown",
      "source": [
        "Check if a number is positive, negative, or zero"
      ],
      "metadata": {
        "id": "D1HmlLhUgm4r"
      }
    },
    {
      "cell_type": "code",
      "source": [
        "number = int(input(\"Enter a number: \"))\n",
        "if number > 0:\n",
        "  print(\"The number is positive.\")\n",
        "elif number < 0:\n",
        "  print(\"The number is negative.\")\n",
        "else:\n",
        "  print(\"The number is zero.\")"
      ],
      "metadata": {
        "colab": {
          "base_uri": "https://localhost:8080/"
        },
        "id": "uWSArb92gmPG",
        "outputId": "17da833c-4b30-44e9-b63e-6afa95ee95b4"
      },
      "execution_count": null,
      "outputs": [
        {
          "output_type": "stream",
          "name": "stdout",
          "text": [
            "Enter a number: 10\n",
            "The number is positive.\n"
          ]
        }
      ]
    },
    {
      "cell_type": "markdown",
      "source": [
        "find the largest of three numbers"
      ],
      "metadata": {
        "id": "JWDJa5lAiUzW"
      }
    },
    {
      "cell_type": "code",
      "source": [
        "a = int(input(\"Enter the first number: \"))\n",
        "b = int(input(\"Enter the second number: \"))\n",
        "c = int(input(\"Enter the third number: \"))\n",
        "if a > b and a > c:\n",
        "  print(f\"The largest number is {a}.\")\n",
        "elif b > c:\n",
        "  print(f\"The largest number is {b}.\")\n",
        "else:\n",
        "  print(f\"The largest number is {c}.\")"
      ],
      "metadata": {
        "colab": {
          "base_uri": "https://localhost:8080/"
        },
        "id": "CEV_w2oXhDju",
        "outputId": "cd92faca-2f82-4db2-dffc-6b575b20a09d"
      },
      "execution_count": null,
      "outputs": [
        {
          "output_type": "stream",
          "name": "stdout",
          "text": [
            "Enter the first number: 100\n",
            "Enter the second number: 454\n",
            "Enter the third number: 328\n",
            "The largest number is 454.\n"
          ]
        }
      ]
    },
    {
      "cell_type": "markdown",
      "source": [
        "Check if a year is a leap year"
      ],
      "metadata": {
        "id": "kMbNrm0hjT02"
      }
    },
    {
      "cell_type": "code",
      "source": [
        "year = int(input(\"Enter a year: \"))\n",
        "if year % 4 == 0:\n",
        "  if year % 100 == 0:\n",
        "    if year % 400 == 0:\n",
        "        print(f\"{year} is a leap year.\")\n",
        "    else:\n",
        "             print(f\"{year} is not a leap year.\")\n",
        "  else:\n",
        "             print(f\"{year} is a leap year.\")\n",
        "else:\n",
        "  print(f\"{year} is not a leap year.\")"
      ],
      "metadata": {
        "colab": {
          "base_uri": "https://localhost:8080/"
        },
        "id": "sJ9hRQIPiZHm",
        "outputId": "b6e46c21-c9a2-47b6-925e-f22f771230fc"
      },
      "execution_count": null,
      "outputs": [
        {
          "output_type": "stream",
          "name": "stdout",
          "text": [
            "Enter a year: 2018\n",
            "2018 is not a leap year.\n"
          ]
        }
      ]
    },
    {
      "cell_type": "markdown",
      "source": [
        "Simple calculator using if-elif-else"
      ],
      "metadata": {
        "id": "kEFIV8_2oFni"
      }
    },
    {
      "cell_type": "code",
      "source": [
        "num1 = float(input(\"Enter the first number: \"))\n",
        "num2 = float(input(\"Enter the second number: \"))\n",
        "operation = input(\"Enter operation (+, -, *, /): \")\n",
        "num1 = float(input(\"Enter the first number: \"))\n",
        "num2 = float(input(\"Enter the second number: \"))\n",
        "if operation == \"+\":\n",
        "  print(f\"Result: {num1 + num2}\")\n",
        "elif operation == \"-\":\n",
        "  print(f\"Result: {num1 - num2}\")\n",
        "elif operation == \"*\":\n",
        "  print(f\"Result: {num1 * num2}\")\n",
        "elif operation == \"/\":\n",
        "  if num2 != 0:\n",
        "    print(f\"Result: {num1 / num2}\")\n",
        "  else:\n",
        "     print(\"Division by zero is not allowed.\")\n",
        "else:\n",
        "    print(\"Invalid operation.\")"
      ],
      "metadata": {
        "colab": {
          "base_uri": "https://localhost:8080/"
        },
        "id": "jhYEBIyHm54Y",
        "outputId": "62429b22-2b26-442c-f924-283501db5648"
      },
      "execution_count": null,
      "outputs": [
        {
          "output_type": "stream",
          "name": "stdout",
          "text": [
            "Enter the first number: 55\n",
            "Enter the second number: 45\n",
            "Enter operation (+, -, *, /): +\n",
            "Enter the first number: 55\n",
            "Enter the second number: 45\n",
            "Result: 100.0\n"
          ]
        }
      ]
    },
    {
      "cell_type": "markdown",
      "source": [
        "Write a program to check whether a number is divisible by both 5 and 3"
      ],
      "metadata": {
        "id": "MJRrowMqq4TX"
      }
    },
    {
      "cell_type": "code",
      "source": [
        "number = int(input(\"Enter a number: \"))\n",
        "if number % 5 == 0 and number % 3 == 0:\n",
        "  print(f\"{number} is divisible by both 5 and 3.\")\n",
        "else:\n",
        "       print(f\"{number} is not divisible by both 5 and 3.\")"
      ],
      "metadata": {
        "colab": {
          "base_uri": "https://localhost:8080/"
        },
        "id": "wbXwOq7nq3lo",
        "outputId": "952f59ed-da82-4869-a0dd-55ba39fffba8"
      },
      "execution_count": null,
      "outputs": [
        {
          "output_type": "stream",
          "name": "stdout",
          "text": [
            "Enter a number: 24\n",
            "24 is not divisible by both 5 and 3.\n"
          ]
        }
      ]
    },
    {
      "cell_type": "markdown",
      "source": [
        "Write a program to check whether a character entered by the user is a vowel or consonent"
      ],
      "metadata": {
        "id": "CDaSGwSorYp-"
      }
    },
    {
      "cell_type": "code",
      "source": [
        "char = input(\"Enter a single character: \").lower()\n",
        "if char.isalpha() and len(char) == 1:\n",
        "  if char in \"aeiou\":\n",
        "    print(f\"{char} is a vowel.\")\n",
        "  else:\n",
        "    print(f\"{char} is a consonent.\")"
      ],
      "metadata": {
        "colab": {
          "base_uri": "https://localhost:8080/"
        },
        "id": "Cp3gvvbqrQMx",
        "outputId": "c24b845e-89a4-44a3-bbf6-c7d4e21dedae"
      },
      "execution_count": null,
      "outputs": [
        {
          "output_type": "stream",
          "name": "stdout",
          "text": [
            "Enter a single character: s\n",
            "s is a consonent.\n"
          ]
        }
      ]
    },
    {
      "cell_type": "markdown",
      "source": [
        "Write a program to categorize a person's age into child"
      ],
      "metadata": {
        "id": "VYKt44WLr2h_"
      }
    },
    {
      "cell_type": "code",
      "source": [
        "age = int(input(\"Enter the person's age: \"))\n",
        "\n",
        "if age < 0:\n",
        "  print(\"The age cannot be negative.\")\n",
        "elif age <= 12:\n",
        "  print(\"The person is a child.\")\n",
        "elif 13 <= age <= 19:\n",
        "  print(\"The person is a teenager.\")\n",
        "elif 20 <= age <= 59:\n",
        "  print(\"The person is an adult.\")\n",
        "else:\n",
        "   print(\"The person is a senior.\")"
      ],
      "metadata": {
        "colab": {
          "base_uri": "https://localhost:8080/"
        },
        "id": "Ef7Hhf21rwp5",
        "outputId": "6c81412e-9c4e-469f-eade-844f75d73ad8"
      },
      "execution_count": null,
      "outputs": [
        {
          "output_type": "stream",
          "name": "stdout",
          "text": [
            "Enter the person's age: 19\n",
            "The person is a teenager.\n"
          ]
        }
      ]
    },
    {
      "cell_type": "code",
      "source": [],
      "metadata": {
        "id": "sVowWbqqs0dj"
      },
      "execution_count": null,
      "outputs": []
    }
  ]
}