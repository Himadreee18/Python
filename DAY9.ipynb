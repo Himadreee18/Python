{
  "nbformat": 4,
  "nbformat_minor": 0,
  "metadata": {
    "colab": {
      "provenance": [],
      "authorship_tag": "ABX9TyOvVY8/LhXZBHNgyll1pPfH",
      "include_colab_link": true
    },
    "kernelspec": {
      "name": "python3",
      "display_name": "Python 3"
    },
    "language_info": {
      "name": "python"
    }
  },
  "cells": [
    {
      "cell_type": "markdown",
      "metadata": {
        "id": "view-in-github",
        "colab_type": "text"
      },
      "source": [
        "<a href=\"https://colab.research.google.com/github/Himadreee18/Python/blob/main/DAY9.ipynb\" target=\"_parent\"><img src=\"https://colab.research.google.com/assets/colab-badge.svg\" alt=\"Open In Colab\"/></a>"
      ]
    },
    {
      "cell_type": "markdown",
      "source": [
        "packing"
      ],
      "metadata": {
        "id": "-lGAsdbChcKr"
      }
    },
    {
      "cell_type": "code",
      "execution_count": null,
      "metadata": {
        "colab": {
          "base_uri": "https://localhost:8080/"
        },
        "id": "LcJRhvymRY1_",
        "outputId": "3dd068ea-079c-4b1a-8372-edec87192d70"
      },
      "outputs": [
        {
          "output_type": "stream",
          "name": "stdout",
          "text": [
            "(1, 2, 3, 4)\n"
          ]
        }
      ],
      "source": [
        "packed = 1, 2, 3, 4\n",
        "print(packed)"
      ]
    },
    {
      "cell_type": "markdown",
      "source": [
        "unpacking"
      ],
      "metadata": {
        "id": "E7vzv2i1htR7"
      }
    },
    {
      "cell_type": "code",
      "source": [
        "x, y, z = 10, 20, 30\n",
        "print(x, y, z)"
      ],
      "metadata": {
        "colab": {
          "base_uri": "https://localhost:8080/"
        },
        "id": "N4L_T5Qphs3t",
        "outputId": "63391a9f-5f71-46f0-c7e2-d10f3cc649e1"
      },
      "execution_count": null,
      "outputs": [
        {
          "output_type": "stream",
          "name": "stdout",
          "text": [
            "10 20 30\n"
          ]
        }
      ]
    },
    {
      "cell_type": "markdown",
      "source": [
        "return"
      ],
      "metadata": {
        "id": "xWSUK8o5lXpN"
      }
    },
    {
      "cell_type": "code",
      "source": [
        "def return_multiple():\n",
        "  return 5, 10, 15\n",
        "val1, val2, val3 = return_multiple()\n",
        "print(val1, val2, val3)"
      ],
      "metadata": {
        "colab": {
          "base_uri": "https://localhost:8080/"
        },
        "id": "YPmDuXMzlaLN",
        "outputId": "ded6521c-4772-4527-f86d-b9c6f843d4bc"
      },
      "execution_count": null,
      "outputs": [
        {
          "output_type": "stream",
          "name": "stdout",
          "text": [
            "5 10 15\n"
          ]
        }
      ]
    },
    {
      "cell_type": "markdown",
      "source": [
        "mutable sequences"
      ],
      "metadata": {
        "id": "JT_JX-1Oj7pW"
      }
    },
    {
      "cell_type": "code",
      "source": [
        "my_list = [1, 2, 3]\n",
        "my_list[1] = 20\n",
        "print(my_list)"
      ],
      "metadata": {
        "colab": {
          "base_uri": "https://localhost:8080/"
        },
        "id": "jm3XS2zuiGa8",
        "outputId": "3ff6723d-8015-45a0-d7a9-73ced00f522a"
      },
      "execution_count": null,
      "outputs": [
        {
          "output_type": "stream",
          "name": "stdout",
          "text": [
            "[1, 20, 3]\n"
          ]
        }
      ]
    },
    {
      "cell_type": "markdown",
      "source": [
        "immutable sequences"
      ],
      "metadata": {
        "id": "Cg0aolAZkBOt"
      }
    },
    {
      "cell_type": "code",
      "source": [
        "text = \"hello\"\n",
        "text[1] = \"e\"\n",
        "text = \"Hello\"\n",
        "print(text)"
      ],
      "metadata": {
        "colab": {
          "base_uri": "https://localhost:8080/",
          "height": 193
        },
        "id": "9fkrcrIDkAqm",
        "outputId": "dc33010f-f251-4c85-d7ec-8c2290eb660d"
      },
      "execution_count": null,
      "outputs": [
        {
          "output_type": "error",
          "ename": "TypeError",
          "evalue": "'str' object does not support item assignment",
          "traceback": [
            "\u001b[0;31m---------------------------------------------------------------------------\u001b[0m",
            "\u001b[0;31mTypeError\u001b[0m                                 Traceback (most recent call last)",
            "\u001b[0;32m<ipython-input-8-ffaf9bd5a1e7>\u001b[0m in \u001b[0;36m<cell line: 0>\u001b[0;34m()\u001b[0m\n\u001b[1;32m      1\u001b[0m \u001b[0mtext\u001b[0m \u001b[0;34m=\u001b[0m \u001b[0;34m\"hello\"\u001b[0m\u001b[0;34m\u001b[0m\u001b[0;34m\u001b[0m\u001b[0m\n\u001b[0;32m----> 2\u001b[0;31m \u001b[0mtext\u001b[0m\u001b[0;34m[\u001b[0m\u001b[0;36m1\u001b[0m\u001b[0;34m]\u001b[0m \u001b[0;34m=\u001b[0m \u001b[0;34m\"e\"\u001b[0m\u001b[0;34m\u001b[0m\u001b[0;34m\u001b[0m\u001b[0m\n\u001b[0m\u001b[1;32m      3\u001b[0m \u001b[0mtext\u001b[0m \u001b[0;34m=\u001b[0m \u001b[0;34m\"Hello\"\u001b[0m\u001b[0;34m\u001b[0m\u001b[0;34m\u001b[0m\u001b[0m\n\u001b[1;32m      4\u001b[0m \u001b[0mprint\u001b[0m\u001b[0;34m(\u001b[0m\u001b[0mtext\u001b[0m\u001b[0;34m)\u001b[0m\u001b[0;34m\u001b[0m\u001b[0;34m\u001b[0m\u001b[0m\n",
            "\u001b[0;31mTypeError\u001b[0m: 'str' object does not support item assignment"
          ]
        }
      ]
    },
    {
      "cell_type": "code",
      "source": [
        "my_tuple = (1, 2, 3)\n",
        "my_tuple[0] = 10\n",
        "print(my_tuple)"
      ],
      "metadata": {
        "colab": {
          "base_uri": "https://localhost:8080/",
          "height": 176
        },
        "id": "Fjcw0G_kpAuJ",
        "outputId": "4ca1631b-bc17-48be-80e6-d59c9389c90d"
      },
      "execution_count": null,
      "outputs": [
        {
          "output_type": "error",
          "ename": "TypeError",
          "evalue": "'tuple' object does not support item assignment",
          "traceback": [
            "\u001b[0;31m---------------------------------------------------------------------------\u001b[0m",
            "\u001b[0;31mTypeError\u001b[0m                                 Traceback (most recent call last)",
            "\u001b[0;32m<ipython-input-9-a8b5659fe4fa>\u001b[0m in \u001b[0;36m<cell line: 0>\u001b[0;34m()\u001b[0m\n\u001b[1;32m      1\u001b[0m \u001b[0mmy_tuple\u001b[0m \u001b[0;34m=\u001b[0m \u001b[0;34m(\u001b[0m\u001b[0;36m1\u001b[0m\u001b[0;34m,\u001b[0m \u001b[0;36m2\u001b[0m\u001b[0;34m,\u001b[0m \u001b[0;36m3\u001b[0m\u001b[0;34m)\u001b[0m\u001b[0;34m\u001b[0m\u001b[0;34m\u001b[0m\u001b[0m\n\u001b[0;32m----> 2\u001b[0;31m \u001b[0mmy_tuple\u001b[0m\u001b[0;34m[\u001b[0m\u001b[0;36m0\u001b[0m\u001b[0;34m]\u001b[0m \u001b[0;34m=\u001b[0m \u001b[0;36m10\u001b[0m\u001b[0;34m\u001b[0m\u001b[0;34m\u001b[0m\u001b[0m\n\u001b[0m\u001b[1;32m      3\u001b[0m \u001b[0mprint\u001b[0m\u001b[0;34m(\u001b[0m\u001b[0mmy_tuple\u001b[0m\u001b[0;34m)\u001b[0m\u001b[0;34m\u001b[0m\u001b[0;34m\u001b[0m\u001b[0m\n",
            "\u001b[0;31mTypeError\u001b[0m: 'tuple' object does not support item assignment"
          ]
        }
      ]
    },
    {
      "cell_type": "code",
      "source": [
        "\"hello\".find(\"e\")"
      ],
      "metadata": {
        "colab": {
          "base_uri": "https://localhost:8080/"
        },
        "id": "xPKz5JAQrdDm",
        "outputId": "7472a796-1451-4d6e-a263-e49d3c9bac7a"
      },
      "execution_count": null,
      "outputs": [
        {
          "output_type": "execute_result",
          "data": {
            "text/plain": [
              "1"
            ]
          },
          "metadata": {},
          "execution_count": 10
        }
      ]
    },
    {
      "cell_type": "code",
      "source": [
        "\"hello\".replace(\"l\", \"x\")"
      ],
      "metadata": {
        "colab": {
          "base_uri": "https://localhost:8080/",
          "height": 35
        },
        "id": "ATDlYtgDsDn5",
        "outputId": "484f3ce1-e0ea-4994-c52b-ace5ecfc7fc6"
      },
      "execution_count": null,
      "outputs": [
        {
          "output_type": "execute_result",
          "data": {
            "text/plain": [
              "'hexxo'"
            ],
            "application/vnd.google.colaboratory.intrinsic+json": {
              "type": "string"
            }
          },
          "metadata": {},
          "execution_count": 11
        }
      ]
    },
    {
      "cell_type": "code",
      "source": [
        "lst = [1, 2];\n",
        "lst.append(3)\n",
        "print(lst)"
      ],
      "metadata": {
        "colab": {
          "base_uri": "https://localhost:8080/"
        },
        "id": "wM3choy8vAlA",
        "outputId": "ddafb00e-88d2-462f-d503-519fdb9e44cd"
      },
      "execution_count": null,
      "outputs": [
        {
          "output_type": "stream",
          "name": "stdout",
          "text": [
            "[1, 2, 3]\n"
          ]
        }
      ]
    },
    {
      "cell_type": "code",
      "source": [
        "lst = [1, 2, 3];\n",
        "lst.remove(2)\n",
        "print(lst)"
      ],
      "metadata": {
        "colab": {
          "base_uri": "https://localhost:8080/"
        },
        "id": "Mk9Ja8xNxEdG",
        "outputId": "55211e3e-aa3d-40df-de43-8ef764c968db"
      },
      "execution_count": null,
      "outputs": [
        {
          "output_type": "stream",
          "name": "stdout",
          "text": [
            "[1, 3]\n"
          ]
        }
      ]
    },
    {
      "cell_type": "code",
      "source": [
        "lst = [1, 2];\n",
        "lst.extend([3, 4])\n",
        "print(lst)"
      ],
      "metadata": {
        "colab": {
          "base_uri": "https://localhost:8080/"
        },
        "id": "ePVe7jNOvS59",
        "outputId": "d67d6367-1185-442d-ddff-05403e74b056"
      },
      "execution_count": null,
      "outputs": [
        {
          "output_type": "stream",
          "name": "stdout",
          "text": [
            "[1, 2, 3, 4]\n"
          ]
        }
      ]
    },
    {
      "cell_type": "code",
      "source": [
        "lst = [1, 2];\n",
        "lst.insert(1, 99)\n",
        "print(lst)\n"
      ],
      "metadata": {
        "colab": {
          "base_uri": "https://localhost:8080/"
        },
        "id": "ZRLqOH5Svans",
        "outputId": "a4f38744-f24e-4258-f40f-d0837b230458"
      },
      "execution_count": null,
      "outputs": [
        {
          "output_type": "stream",
          "name": "stdout",
          "text": [
            "[1, 99, 2]\n"
          ]
        }
      ]
    },
    {
      "cell_type": "code",
      "source": [
        "lst = [1, 2, 3];\n",
        "lst.pop(1)\n",
        "print(lst)"
      ],
      "metadata": {
        "colab": {
          "base_uri": "https://localhost:8080/"
        },
        "id": "Sk0C-ma5xXnX",
        "outputId": "e82c57f3-0d89-40c8-d591-4913169c3b81"
      },
      "execution_count": null,
      "outputs": [
        {
          "output_type": "stream",
          "name": "stdout",
          "text": [
            "[1, 3]\n"
          ]
        }
      ]
    },
    {
      "cell_type": "code",
      "source": [
        "lst = [1, 2, 3];\n",
        "lst.clear()\n",
        "print(lst)"
      ],
      "metadata": {
        "colab": {
          "base_uri": "https://localhost:8080/"
        },
        "id": "HOjWf98IxfeT",
        "outputId": "2bfaa192-2ed8-4b50-8fdd-3b0a7d3ada34"
      },
      "execution_count": null,
      "outputs": [
        {
          "output_type": "stream",
          "name": "stdout",
          "text": [
            "[]\n"
          ]
        }
      ]
    },
    {
      "cell_type": "code",
      "source": [
        "lst = [1, 2, 2, 3];\n",
        "lst.count(2)\n",
        "print(lst)"
      ],
      "metadata": {
        "colab": {
          "base_uri": "https://localhost:8080/"
        },
        "id": "u4XIHPlJx5T7",
        "outputId": "a699f3fa-4a23-4b61-853e-d76630a1a013"
      },
      "execution_count": null,
      "outputs": [
        {
          "output_type": "stream",
          "name": "stdout",
          "text": [
            "[1, 2, 2, 3]\n"
          ]
        }
      ]
    },
    {
      "cell_type": "code",
      "source": [
        "lst = [3, 1, 2];\n",
        "lst.sort()\n",
        "print(lst)"
      ],
      "metadata": {
        "colab": {
          "base_uri": "https://localhost:8080/"
        },
        "id": "7uvPSSqPx8zF",
        "outputId": "a4823317-ac54-4fff-bc12-1e8d3b45a46b"
      },
      "execution_count": null,
      "outputs": [
        {
          "output_type": "stream",
          "name": "stdout",
          "text": [
            "[1, 2, 3]\n"
          ]
        }
      ]
    },
    {
      "cell_type": "code",
      "source": [
        "lst = [1, 2, 3];\n",
        "lst.reverse()\n",
        "print(lst)"
      ],
      "metadata": {
        "colab": {
          "base_uri": "https://localhost:8080/"
        },
        "id": "p9CvF1L7yEDU",
        "outputId": "438f8546-614b-4000-8eb5-179739b736b0"
      },
      "execution_count": null,
      "outputs": [
        {
          "output_type": "stream",
          "name": "stdout",
          "text": [
            "[3, 2, 1]\n"
          ]
        }
      ]
    },
    {
      "cell_type": "code",
      "source": [
        "lst = [1, 2];\n",
        "new_lst = lst.copy()\n",
        "print(lst)"
      ],
      "metadata": {
        "colab": {
          "base_uri": "https://localhost:8080/"
        },
        "id": "42wrs_UiyU8F",
        "outputId": "3fe95b89-1d3d-4a00-faef-91d9db61ed94"
      },
      "execution_count": null,
      "outputs": [
        {
          "output_type": "stream",
          "name": "stdout",
          "text": [
            "[1, 2]\n"
          ]
        }
      ]
    },
    {
      "cell_type": "markdown",
      "source": [
        "list comprehenions"
      ],
      "metadata": {
        "id": "Q7xnZm64zBYT"
      }
    },
    {
      "cell_type": "code",
      "source": [
        "squares = [x**2 for x in range(1, 6)]\n",
        "print(squares)\n"
      ],
      "metadata": {
        "colab": {
          "base_uri": "https://localhost:8080/"
        },
        "id": "CnVYEbweyofE",
        "outputId": "07bed7ee-3e5d-4341-8113-5012727e219f"
      },
      "execution_count": null,
      "outputs": [
        {
          "output_type": "stream",
          "name": "stdout",
          "text": [
            "[1, 4, 9, 16, 25]\n"
          ]
        }
      ]
    },
    {
      "cell_type": "code",
      "source": [
        "evens = [x for x in range(10) if x % 2 == 0]\n",
        "print(evens)"
      ],
      "metadata": {
        "colab": {
          "base_uri": "https://localhost:8080/"
        },
        "id": "FLC-6em1zIEc",
        "outputId": "fc56717c-986d-4192-d4e7-fa50d47ae310"
      },
      "execution_count": null,
      "outputs": [
        {
          "output_type": "stream",
          "name": "stdout",
          "text": [
            "[0, 2, 4, 6, 8]\n"
          ]
        }
      ]
    },
    {
      "cell_type": "code",
      "source": [
        "my_tuple = (10, 20, 30, 10)\n",
        "print(my_tuple.count(10))\n",
        "print(my_tuple.index(20))\n",
        "print(my_tuple.index(30))\n"
      ],
      "metadata": {
        "colab": {
          "base_uri": "https://localhost:8080/"
        },
        "id": "5sU4JKAXLJwf",
        "outputId": "d6f31856-4583-4c4e-c292-1b7a0e1334e0"
      },
      "execution_count": null,
      "outputs": [
        {
          "output_type": "stream",
          "name": "stdout",
          "text": [
            "2\n",
            "1\n",
            "2\n"
          ]
        }
      ]
    },
    {
      "cell_type": "code",
      "source": [
        "# Packing\n",
        "packed = 1, 2, 3\n",
        "# Unpacking\n",
        "x, y, z = packed\n",
        "print(x, y, z)\n",
        "print(packed)\n",
        "\n"
      ],
      "metadata": {
        "colab": {
          "base_uri": "https://localhost:8080/"
        },
        "id": "U4_fJQZLLfKg",
        "outputId": "4e59b57e-2716-447d-8001-a76beac7616a"
      },
      "execution_count": null,
      "outputs": [
        {
          "output_type": "stream",
          "name": "stdout",
          "text": [
            "1 2 3\n",
            "(1, 2, 3)\n"
          ]
        }
      ]
    },
    {
      "cell_type": "markdown",
      "source": [
        "Write a function that returns the sum and product of two numbers. Use unpacking to assign the results.\n"
      ],
      "metadata": {
        "id": "AHM-7f9_MXbE"
      }
    },
    {
      "cell_type": "code",
      "source": [
        "def sum_and_product(a, b):\n",
        " return a + b, a * b\n",
        "result_sum, result_product = sum_and_product(4, 5)\n",
        "print(result_sum, result_product)\n"
      ],
      "metadata": {
        "colab": {
          "base_uri": "https://localhost:8080/"
        },
        "id": "hliRPaMAMPWd",
        "outputId": "36fd2188-7a37-4af4-fd8c-b880e0fc94be"
      },
      "execution_count": null,
      "outputs": [
        {
          "output_type": "stream",
          "name": "stdout",
          "text": [
            "9 20\n"
          ]
        }
      ]
    },
    {
      "cell_type": "markdown",
      "source": [
        "Create a list of squares for all odd numbers between 1 and 10."
      ],
      "metadata": {
        "id": "sRJ1MuvYMl_t"
      }
    },
    {
      "cell_type": "code",
      "source": [
        "odd_squares = [x**2 for x in range(1, 11) if x % 2 != 0]\n",
        "print(odd_squares)"
      ],
      "metadata": {
        "colab": {
          "base_uri": "https://localhost:8080/"
        },
        "id": "xxNs2xWUMdjm",
        "outputId": "d74ba0c6-9c84-4d7e-98fb-8a1c6c770a0f"
      },
      "execution_count": null,
      "outputs": [
        {
          "output_type": "stream",
          "name": "stdout",
          "text": [
            "[1, 9, 25, 49, 81]\n"
          ]
        }
      ]
    },
    {
      "cell_type": "markdown",
      "source": [
        "Given a tuple (10, 20, 30, 40), write a function to:\n",
        "1. Count occurrences of 20.\n",
        "2. Find the index of 30.\n"
      ],
      "metadata": {
        "id": "3mtz6ksQM43N"
      }
    },
    {
      "cell_type": "code",
      "source": [
        "my_tuple = (10, 20, 30, 40)\n",
        "print(my_tuple.count(20))\n",
        "print(my_tuple.index(30))\n"
      ],
      "metadata": {
        "colab": {
          "base_uri": "https://localhost:8080/"
        },
        "id": "WPC_GHqPM4Z4",
        "outputId": "438a5b89-bfcf-4c8d-bf1f-1245b615ee10"
      },
      "execution_count": null,
      "outputs": [
        {
          "output_type": "stream",
          "name": "stdout",
          "text": [
            "1\n",
            "2\n"
          ]
        }
      ]
    },
    {
      "cell_type": "markdown",
      "source": [
        "Write a program to count the number of vowels in a given string."
      ],
      "metadata": {
        "id": "ZxZ7llUYPjja"
      }
    },
    {
      "cell_type": "code",
      "source": [
        "text = \"Hello, Python!\"\n",
        "vowels = [char for char in text.lower() if char in \"aeiou\"]\n",
        "print(len(vowels))\n"
      ],
      "metadata": {
        "colab": {
          "base_uri": "https://localhost:8080/"
        },
        "id": "qwyQFNZuPjNm",
        "outputId": "02fec036-16f4-410c-cc22-3c5eb86aa28f"
      },
      "execution_count": null,
      "outputs": [
        {
          "output_type": "stream",
          "name": "stdout",
          "text": [
            "3\n"
          ]
        }
      ]
    },
    {
      "cell_type": "markdown",
      "source": [
        "What happens if you try to modify a tuple? Test this with code.\n"
      ],
      "metadata": {
        "id": "QpQn2E9jP0QS"
      }
    },
    {
      "cell_type": "code",
      "source": [
        "my_tuple = (1, 2, 3)\n",
        "print(my_tuple)\n"
      ],
      "metadata": {
        "colab": {
          "base_uri": "https://localhost:8080/"
        },
        "id": "NaBFqU41Pz3s",
        "outputId": "6c7d12af-2615-47d8-ba51-04aeee3d86b4"
      },
      "execution_count": null,
      "outputs": [
        {
          "output_type": "stream",
          "name": "stdout",
          "text": [
            "(1, 2, 3)\n"
          ]
        }
      ]
    },
    {
      "cell_type": "markdown",
      "source": [
        "genrate random number within a range"
      ],
      "metadata": {
        "id": "yu5lXmIiTOZo"
      }
    },
    {
      "cell_type": "code",
      "source": [
        "import random\n",
        "\n",
        "def generate_random_number(start, end):\n",
        "  return random.randint(start, end)\n",
        "random_number = generate_random_number(1, 100)\n",
        "random_number\n"
      ],
      "metadata": {
        "colab": {
          "base_uri": "https://localhost:8080/"
        },
        "id": "tBBzs89VTN_Q",
        "outputId": "e4d27f0c-0098-4bd7-c5cf-d7cd2713b19e"
      },
      "execution_count": null,
      "outputs": [
        {
          "output_type": "execute_result",
          "data": {
            "text/plain": [
              "96"
            ]
          },
          "metadata": {},
          "execution_count": 12
        }
      ]
    },
    {
      "cell_type": "markdown",
      "source": [
        "count the occurence of each character in a string\n",
        "\n",
        "---\n",
        "\n"
      ],
      "metadata": {
        "id": "c8QfRG4HTv3O"
      }
    },
    {
      "cell_type": "code",
      "source": [
        "\n",
        "\n",
        "from collections import Counter\n",
        "\n",
        "def count_char_occurrences(input_string):\n",
        "\n",
        "  return dict(Counter(input_string))\n",
        "\n",
        "\n",
        "input_string = \"Hello, Python!\"\n",
        "char_counts = count_char_occurrences(input_string)\n",
        "char_counts"
      ],
      "metadata": {
        "colab": {
          "base_uri": "https://localhost:8080/"
        },
        "id": "UzRqJyX7TufA",
        "outputId": "1fb34283-725b-4e8b-d62e-c27c9ee95acd"
      },
      "execution_count": null,
      "outputs": [
        {
          "output_type": "execute_result",
          "data": {
            "text/plain": [
              "{'H': 1,\n",
              " 'e': 1,\n",
              " 'l': 2,\n",
              " 'o': 2,\n",
              " ',': 1,\n",
              " ' ': 1,\n",
              " 'P': 1,\n",
              " 'y': 1,\n",
              " 't': 1,\n",
              " 'h': 1,\n",
              " 'n': 1,\n",
              " '!': 1}"
            ]
          },
          "metadata": {},
          "execution_count": 14
        }
      ]
    },
    {
      "cell_type": "markdown",
      "source": [
        "find the largest palindrome made from the product of two numbers"
      ],
      "metadata": {
        "id": "KYJXCXPoUY0-"
      }
    },
    {
      "cell_type": "code",
      "source": [
        "\n",
        "def is_palindrome(n):\n",
        "    return str(n) == str(n)[::-1]\n",
        "\n",
        "def largest_palindrome_product(n):\n",
        "    largest_palindrome = 0\n",
        "    for i in range(n - 1, 0, -1):\n",
        "        for j in range(n - 1, 0, -1):\n",
        "            product = i * j\n",
        "            if is_palindrome(product) and product > largest_palindrome:\n",
        "                largest_palindrome = product\n",
        "    return largest_palindrome\n",
        "\n",
        "n = 1000\n",
        "largest_palindrome = largest_palindrome_product(n)\n",
        "print(f\"The largest palindrome made from the product of two {n-1}-digit numbers is {largest_palindrome}\")"
      ],
      "metadata": {
        "colab": {
          "base_uri": "https://localhost:8080/"
        },
        "id": "raT0571nUWqg",
        "outputId": "b5d6dce9-cccb-4d4e-d5e1-e0dbf296d6fe"
      },
      "execution_count": null,
      "outputs": [
        {
          "output_type": "stream",
          "name": "stdout",
          "text": [
            "The largest palindrome made from the product of two 999-digit numbers is 906609\n"
          ]
        }
      ]
    },
    {
      "cell_type": "markdown",
      "source": [
        "\n",
        "\n",
        "\n",
        "* using\n",
        "\n"
      ],
      "metadata": {
        "id": "USy8TpEeU9N2"
      }
    },
    {
      "cell_type": "code",
      "source": [
        "*a, b = [1, 2, 3, 4]\n",
        "print(a, b)"
      ],
      "metadata": {
        "id": "PJVnhBhMU27H",
        "colab": {
          "base_uri": "https://localhost:8080/"
        },
        "outputId": "6bd98455-b3d0-4443-d9c4-5ff0319e586d"
      },
      "execution_count": null,
      "outputs": [
        {
          "output_type": "stream",
          "name": "stdout",
          "text": [
            "[1, 2, 3] 4\n"
          ]
        }
      ]
    }
  ]
}